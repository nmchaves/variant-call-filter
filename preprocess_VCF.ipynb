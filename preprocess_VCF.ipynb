{
 "cells": [
  {
   "cell_type": "code",
   "execution_count": 63,
   "metadata": {
    "collapsed": false
   },
   "outputs": [],
   "source": [
    "import numpy as np\n",
    "import pandas as pd"
   ]
  },
  {
   "cell_type": "code",
   "execution_count": 64,
   "metadata": {
    "collapsed": true
   },
   "outputs": [],
   "source": [
    "def parse_attributes(attributes):\n",
    "    for attr in attributes:\n",
    "        if \"=\" in attr:\n",
    "            [key, val] = attr.split('=')\n",
    "            yield (key, val)\n",
    "\n",
    "def get_feature_names(df):\n",
    "    row_info = df['INFO'][0].split(';')\n",
    "    feature_names = set()\n",
    "    for (key, val) in parse_attributes(row_info):\n",
    "        feature_names.add(key)\n",
    "    return feature_names"
   ]
  },
  {
   "cell_type": "code",
   "execution_count": 69,
   "metadata": {
    "collapsed": false
   },
   "outputs": [],
   "source": [
    "filename = 'data/VQSRfilter/NA12878.LowSeq.illumina.bwa.sorted.dedup.20.sam.wFlag.qual.raw.snps.vqsr.recal copy.vcf'\n",
    "\n",
    "# Ignore non-numeric columns (consider accounting for these later on)\n",
    "ignore_cols = {'DB', 'POSITIVE_TRAIN_SITE', 'culprit'}\n",
    "\n",
    "df = pd.read_csv(filename, sep='\\t')\n",
    "cols = set(df.columns)\n",
    "cols -= set(['INFO'])\n",
    "\n",
    "feature_names = get_feature_names(df) - ignore_cols\n",
    "cols |= feature_names\n",
    "cols |= set(['PASSED_VQSR'])"
   ]
  },
  {
   "cell_type": "code",
   "execution_count": 66,
   "metadata": {
    "collapsed": true
   },
   "outputs": [],
   "source": [
    "num_rows = df.shape[0]\n",
    "features = pd.DataFrame(np.zeros(shape=(num_rows, len(cols))), columns=list(cols))\n",
    "    \n",
    "# Copy over all columns except for INFO and FILTER (i.e. the annotations and the VQSR filter result)\n",
    "for col in df.columns:\n",
    "    if col in cols and col != 'INFO' and col != 'FILTER':\n",
    "        features[col] = df[col]\n",
    "    \n",
    "# Copy over the INFO and FILTER data\n",
    "for index, row in df.iterrows():        \n",
    "    attrs = row['INFO'].split(';')\n",
    "    for (key, val) in parse_attributes(attrs):\n",
    "        if key in cols:\n",
    "            # TODO: This is NOT the correct/robust way to handle this case. This is the case where the\n",
    "            # location has multiple calls (e.g. heterozygosity for example). For now, just take the first\n",
    "            # attribute for simplicity\n",
    "            if ',' in val:\n",
    "                val = val.split(',')[0]\n",
    "            features.set_value(index, key, val)\n",
    "        \n",
    "    passed_VQSR = row['FILTER']\n",
    "    if passed_VQSR == 'PASS':\n",
    "        features.set_value(index, 'PASSED_VQSR', 1)\n",
    "    else:\n",
    "        features.set_value(index, 'PASSED_VQSR', 0)    "
   ]
  },
  {
   "cell_type": "code",
   "execution_count": 67,
   "metadata": {
    "collapsed": true
   },
   "outputs": [],
   "source": [
    "features.to_csv('data/preprocessed/vcf_features_with_VQSR_labels2.txt', sep='\\t')"
   ]
  },
  {
   "cell_type": "code",
   "execution_count": 70,
   "metadata": {
    "collapsed": false
   },
   "outputs": [
    {
     "data": {
      "text/plain": [
       "{'AC',\n",
       " 'AF',\n",
       " 'AN',\n",
       " 'BaseQRankSum',\n",
       " 'ClippingRankSum',\n",
       " 'DP',\n",
       " 'FS',\n",
       " 'MLEAC',\n",
       " 'MLEAF',\n",
       " 'MQ',\n",
       " 'MQ0',\n",
       " 'MQRankSum',\n",
       " 'QD',\n",
       " 'ReadPosRankSum',\n",
       " 'SOR',\n",
       " 'VQSLOD'}"
      ]
     },
     "execution_count": 70,
     "metadata": {},
     "output_type": "execute_result"
    }
   ],
   "source": [
    "feature_names"
   ]
  },
  {
   "cell_type": "code",
   "execution_count": null,
   "metadata": {
    "collapsed": true
   },
   "outputs": [],
   "source": []
  }
 ],
 "metadata": {
  "kernelspec": {
   "display_name": "Python 2",
   "language": "python",
   "name": "python2"
  },
  "language_info": {
   "codemirror_mode": {
    "name": "ipython",
    "version": 2
   },
   "file_extension": ".py",
   "mimetype": "text/x-python",
   "name": "python",
   "nbconvert_exporter": "python",
   "pygments_lexer": "ipython2",
   "version": "2.7.12"
  }
 },
 "nbformat": 4,
 "nbformat_minor": 0
}
