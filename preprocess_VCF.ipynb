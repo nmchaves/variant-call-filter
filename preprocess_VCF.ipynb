{
 "cells": [
  {
   "cell_type": "markdown",
   "metadata": {},
   "source": [
    "# A file for pre-processing variant data in Variant Call Format (VCF)\n",
    "\n",
    "### TODO: consider marking presence of heterozygosity as a binary feature. Could be useful for labeling data in visualizations\n",
    "\n",
    "## Total Runtime: ~5 minutes"
   ]
  },
  {
   "cell_type": "code",
   "execution_count": 61,
   "metadata": {
    "collapsed": false
   },
   "outputs": [],
   "source": [
    "import numpy as np\n",
    "import pandas as pd"
   ]
  },
  {
   "cell_type": "code",
   "execution_count": 62,
   "metadata": {
    "collapsed": true
   },
   "outputs": [],
   "source": [
    "def parse_attributes(attributes):\n",
    "    for attr in attributes:\n",
    "        if \"=\" in attr:\n",
    "            [key, val] = attr.split('=')\n",
    "            yield (key, val)\n",
    "\n",
    "def get_info_field_names(df):\n",
    "    '''\n",
    "    VCF records contain an INFO column with several fields (e.g. strand bias)\n",
    "    separated by semicolons. This function gets the names of all of these fields.\n",
    "    '''\n",
    "    row_info = df['INFO'][0].split(';')\n",
    "    names = set()\n",
    "    for (key, val) in parse_attributes(row_info):\n",
    "        names.add(key)\n",
    "    return names"
   ]
  },
  {
   "cell_type": "code",
   "execution_count": 63,
   "metadata": {
    "collapsed": false
   },
   "outputs": [],
   "source": [
    "filename = 'data/VQSRfilter/NA12878.LowSeq.illumina.bwa.sorted.dedup.20.sam.wFlag.qual.raw.snps.vqsr.recal copy.vcf'\n",
    "\n",
    "df = pd.read_csv(filename, sep='\\t')\n",
    "cols = set(df.columns)\n",
    "cols -= {'INFO'}\n",
    "\n",
    "# Get field names in the INFO column, except for non-numeric columns (consider accounting for these later on)\n",
    "ignore_info_fields = {'DB', 'POSITIVE_TRAIN_SITE', 'NEGATIVE_TRAIN_SITE', 'culprit'}\n",
    "info_field_names = get_info_field_names(df) - ignore_info_fields\n",
    "\n",
    "cols |= info_field_names\n",
    "cols |= {'PASSED_VQSR'}  # binary label indicating if variant passed VQSR filter\n",
    "cols |= {'GROUND_TRUTH'}  # binary label indicating if the variant is true according to ground truth"
   ]
  },
  {
   "cell_type": "markdown",
   "metadata": {},
   "source": [
    "## Copy the features into a new data frame"
   ]
  },
  {
   "cell_type": "code",
   "execution_count": 64,
   "metadata": {
    "collapsed": true
   },
   "outputs": [],
   "source": [
    "num_rows = df.shape[0]\n",
    "features = pd.DataFrame(np.zeros(shape=(num_rows, len(cols))), columns=list(cols))\n",
    "    \n",
    "# Copy over all columns except for INFO and FILTER (i.e. the annotations and the VQSR filter result)\n",
    "for col in df.columns:\n",
    "    if col in cols and col != 'INFO' and col != 'FILTER':\n",
    "        features[col] = df[col]\n",
    "    \n",
    "# Copy over the INFO and FILTER data\n",
    "for index, row in df.iterrows():        \n",
    "    attrs = row['INFO'].split(';')\n",
    "    for (key, val) in parse_attributes(attrs):\n",
    "        if key in cols:\n",
    "            # TODO: This is NOT the correct/robust way to handle this case. This is the case where the\n",
    "            # location has multiple calls (e.g. heterozygosity for example). For now, just take the first\n",
    "            # attribute for simplicity\n",
    "            if ',' in val:\n",
    "                val = val.split(',')[0]\n",
    "            features.set_value(index, key, val)\n",
    "        \n",
    "    passed_VQSR = row['FILTER']\n",
    "    if passed_VQSR == 'PASS':\n",
    "        features.set_value(index, 'PASSED_VQSR', 1)\n",
    "    else:\n",
    "        features.set_value(index, 'PASSED_VQSR', 0)    "
   ]
  },
  {
   "cell_type": "markdown",
   "metadata": {},
   "source": [
    "# Obtain Ground Truth Labels\n",
    "\n",
    "### Note: You must preprocess the ground truth file before running this. This ensures that only variants on chromosome 20 are present in the ground truth file."
   ]
  },
  {
   "cell_type": "code",
   "execution_count": 65,
   "metadata": {
    "collapsed": true
   },
   "outputs": [],
   "source": [
    "# Build dictionary of ground truth variants\n",
    "gt_file = 'data/preprocessed/ground_truth_chrom_20.txt'\n",
    "gt_df = pd.read_csv(gt_file, sep='\\t')\n",
    "gnd_truth_dict = {}\n",
    "\n",
    "for index, row in gt_df.iterrows(): \n",
    "    pos = row['POS']\n",
    "    ref = row['REF']\n",
    "    alt = row['ALT']\n",
    "    gnd_truth_dict[pos] = (ref, alt)\n",
    "       "
   ]
  },
  {
   "cell_type": "code",
   "execution_count": 66,
   "metadata": {
    "collapsed": false
   },
   "outputs": [
    {
     "data": {
      "text/plain": [
       "(89426, 11)"
      ]
     },
     "execution_count": 66,
     "metadata": {},
     "output_type": "execute_result"
    }
   ],
   "source": [
    "gt_df.shape"
   ]
  },
  {
   "cell_type": "code",
   "execution_count": 67,
   "metadata": {
    "collapsed": false
   },
   "outputs": [],
   "source": [
    "# Lookup each variant in the VCF data and determine if it's a true variant\n",
    "for index, row in features.iterrows():   \n",
    "    pos = row['POS']\n",
    "    ref = row['REF']\n",
    "    alt = row['ALT']\n",
    "    \n",
    "    if pos in gnd_truth_dict and gnd_truth_dict[pos] == (ref, alt):\n",
    "        features.set_value(index, 'GROUND_TRUTH', 1)\n",
    "    else:\n",
    "        features.set_value(index, 'GROUND_TRUTH', 0)"
   ]
  },
  {
   "cell_type": "code",
   "execution_count": 68,
   "metadata": {
    "collapsed": true
   },
   "outputs": [],
   "source": [
    "features.to_csv('data/preprocessed/vcf_features_with_VQSR_labels.txt', sep='\\t')"
   ]
  },
  {
   "cell_type": "markdown",
   "metadata": {},
   "source": [
    "### Display the names of features that may be used for filtering. Include the annotations in the INFO field and the quality score (QUAL). Later, consider incorporating the REF and ALT fields as well."
   ]
  },
  {
   "cell_type": "code",
   "execution_count": 69,
   "metadata": {
    "collapsed": false
   },
   "outputs": [
    {
     "data": {
      "text/plain": [
       "{'AC',\n",
       " 'AF',\n",
       " 'AN',\n",
       " 'BaseQRankSum',\n",
       " 'ClippingRankSum',\n",
       " 'DP',\n",
       " 'FS',\n",
       " 'MLEAC',\n",
       " 'MLEAF',\n",
       " 'MQ',\n",
       " 'MQ0',\n",
       " 'MQRankSum',\n",
       " 'QD',\n",
       " 'QUAL',\n",
       " 'ReadPosRankSum',\n",
       " 'SOR',\n",
       " 'VQSLOD'}"
      ]
     },
     "execution_count": 69,
     "metadata": {},
     "output_type": "execute_result"
    }
   ],
   "source": [
    "feature_names = info_field_names | {'QUAL'}\n",
    "feature_names"
   ]
  },
  {
   "cell_type": "markdown",
   "metadata": {
    "collapsed": true
   },
   "source": [
    "### Summary Statistics"
   ]
  },
  {
   "cell_type": "code",
   "execution_count": 70,
   "metadata": {
    "collapsed": false
   },
   "outputs": [
    {
     "data": {
      "text/html": [
       "<div>\n",
       "<table border=\"1\" class=\"dataframe\">\n",
       "  <thead>\n",
       "    <tr style=\"text-align: right;\">\n",
       "      <th></th>\n",
       "      <th>PASSED_VQSR</th>\n",
       "      <th>AC</th>\n",
       "      <th>BaseQRankSum</th>\n",
       "      <th>MQRankSum</th>\n",
       "      <th>VQSLOD</th>\n",
       "      <th>AN</th>\n",
       "      <th>QUAL</th>\n",
       "      <th>FS</th>\n",
       "      <th>#CHROM</th>\n",
       "      <th>DP</th>\n",
       "      <th>...</th>\n",
       "      <th>MLEAF</th>\n",
       "      <th>MQ0</th>\n",
       "      <th>AF</th>\n",
       "      <th>POS</th>\n",
       "      <th>FILTER</th>\n",
       "      <th>SOR</th>\n",
       "      <th>QD</th>\n",
       "      <th>MQ</th>\n",
       "      <th>GROUND_TRUTH</th>\n",
       "      <th>ClippingRankSum</th>\n",
       "    </tr>\n",
       "  </thead>\n",
       "  <tbody>\n",
       "    <tr>\n",
       "      <th>count</th>\n",
       "      <td>86825.000000</td>\n",
       "      <td>86825.000000</td>\n",
       "      <td>86825.000000</td>\n",
       "      <td>86825.000000</td>\n",
       "      <td>86825.000000</td>\n",
       "      <td>86825.0</td>\n",
       "      <td>86825.000000</td>\n",
       "      <td>86825.000000</td>\n",
       "      <td>86825.0</td>\n",
       "      <td>86825.000000</td>\n",
       "      <td>...</td>\n",
       "      <td>86825.000000</td>\n",
       "      <td>86825.0</td>\n",
       "      <td>86825.000000</td>\n",
       "      <td>8.682500e+04</td>\n",
       "      <td>86825.0</td>\n",
       "      <td>86825.000000</td>\n",
       "      <td>86825.000000</td>\n",
       "      <td>86825.000000</td>\n",
       "      <td>86825.000000</td>\n",
       "      <td>86825.000000</td>\n",
       "    </tr>\n",
       "    <tr>\n",
       "      <th>mean</th>\n",
       "      <td>0.786075</td>\n",
       "      <td>1.317409</td>\n",
       "      <td>-0.014988</td>\n",
       "      <td>-0.359260</td>\n",
       "      <td>13.972397</td>\n",
       "      <td>2.0</td>\n",
       "      <td>305.581818</td>\n",
       "      <td>2.124176</td>\n",
       "      <td>20.0</td>\n",
       "      <td>16.949911</td>\n",
       "      <td>...</td>\n",
       "      <td>0.658658</td>\n",
       "      <td>0.0</td>\n",
       "      <td>0.658704</td>\n",
       "      <td>3.087785e+07</td>\n",
       "      <td>0.0</td>\n",
       "      <td>1.175295</td>\n",
       "      <td>18.548858</td>\n",
       "      <td>57.873878</td>\n",
       "      <td>0.834610</td>\n",
       "      <td>-0.011719</td>\n",
       "    </tr>\n",
       "    <tr>\n",
       "      <th>std</th>\n",
       "      <td>0.410077</td>\n",
       "      <td>0.465471</td>\n",
       "      <td>1.206899</td>\n",
       "      <td>1.212392</td>\n",
       "      <td>10.261468</td>\n",
       "      <td>0.0</td>\n",
       "      <td>285.849485</td>\n",
       "      <td>3.937809</td>\n",
       "      <td>0.0</td>\n",
       "      <td>13.400111</td>\n",
       "      <td>...</td>\n",
       "      <td>0.232717</td>\n",
       "      <td>0.0</td>\n",
       "      <td>0.232735</td>\n",
       "      <td>1.856583e+07</td>\n",
       "      <td>0.0</td>\n",
       "      <td>0.771929</td>\n",
       "      <td>10.359626</td>\n",
       "      <td>5.106345</td>\n",
       "      <td>0.371534</td>\n",
       "      <td>0.732069</td>\n",
       "    </tr>\n",
       "    <tr>\n",
       "      <th>min</th>\n",
       "      <td>0.000000</td>\n",
       "      <td>1.000000</td>\n",
       "      <td>-6.280000</td>\n",
       "      <td>-8.498000</td>\n",
       "      <td>-81.870000</td>\n",
       "      <td>2.0</td>\n",
       "      <td>10.200000</td>\n",
       "      <td>0.000000</td>\n",
       "      <td>20.0</td>\n",
       "      <td>1.000000</td>\n",
       "      <td>...</td>\n",
       "      <td>0.500000</td>\n",
       "      <td>0.0</td>\n",
       "      <td>0.500000</td>\n",
       "      <td>6.179500e+04</td>\n",
       "      <td>0.0</td>\n",
       "      <td>0.008000</td>\n",
       "      <td>0.060000</td>\n",
       "      <td>20.830000</td>\n",
       "      <td>0.000000</td>\n",
       "      <td>-3.575000</td>\n",
       "    </tr>\n",
       "    <tr>\n",
       "      <th>25%</th>\n",
       "      <td>1.000000</td>\n",
       "      <td>1.000000</td>\n",
       "      <td>-0.572000</td>\n",
       "      <td>-0.729000</td>\n",
       "      <td>4.920000</td>\n",
       "      <td>2.0</td>\n",
       "      <td>139.770000</td>\n",
       "      <td>0.000000</td>\n",
       "      <td>20.0</td>\n",
       "      <td>11.000000</td>\n",
       "      <td>...</td>\n",
       "      <td>0.500000</td>\n",
       "      <td>0.0</td>\n",
       "      <td>0.500000</td>\n",
       "      <td>1.539826e+07</td>\n",
       "      <td>0.0</td>\n",
       "      <td>0.693000</td>\n",
       "      <td>10.310000</td>\n",
       "      <td>60.000000</td>\n",
       "      <td>1.000000</td>\n",
       "      <td>-0.358000</td>\n",
       "    </tr>\n",
       "    <tr>\n",
       "      <th>50%</th>\n",
       "      <td>1.000000</td>\n",
       "      <td>1.000000</td>\n",
       "      <td>0.000000</td>\n",
       "      <td>0.000000</td>\n",
       "      <td>17.140000</td>\n",
       "      <td>2.0</td>\n",
       "      <td>238.770000</td>\n",
       "      <td>0.000000</td>\n",
       "      <td>20.0</td>\n",
       "      <td>14.000000</td>\n",
       "      <td>...</td>\n",
       "      <td>0.500000</td>\n",
       "      <td>0.0</td>\n",
       "      <td>0.500000</td>\n",
       "      <td>2.947232e+07</td>\n",
       "      <td>0.0</td>\n",
       "      <td>1.002000</td>\n",
       "      <td>16.230000</td>\n",
       "      <td>60.000000</td>\n",
       "      <td>1.000000</td>\n",
       "      <td>0.000000</td>\n",
       "    </tr>\n",
       "    <tr>\n",
       "      <th>75%</th>\n",
       "      <td>1.000000</td>\n",
       "      <td>2.000000</td>\n",
       "      <td>0.546000</td>\n",
       "      <td>0.135000</td>\n",
       "      <td>21.050000</td>\n",
       "      <td>2.0</td>\n",
       "      <td>410.770000</td>\n",
       "      <td>2.750000</td>\n",
       "      <td>20.0</td>\n",
       "      <td>18.000000</td>\n",
       "      <td>...</td>\n",
       "      <td>1.000000</td>\n",
       "      <td>0.0</td>\n",
       "      <td>1.000000</td>\n",
       "      <td>4.786703e+07</td>\n",
       "      <td>0.0</td>\n",
       "      <td>1.492000</td>\n",
       "      <td>29.620000</td>\n",
       "      <td>60.000000</td>\n",
       "      <td>1.000000</td>\n",
       "      <td>0.320000</td>\n",
       "    </tr>\n",
       "    <tr>\n",
       "      <th>max</th>\n",
       "      <td>1.000000</td>\n",
       "      <td>2.000000</td>\n",
       "      <td>6.495000</td>\n",
       "      <td>4.704000</td>\n",
       "      <td>25.200000</td>\n",
       "      <td>2.0</td>\n",
       "      <td>6700.770000</td>\n",
       "      <td>71.987000</td>\n",
       "      <td>20.0</td>\n",
       "      <td>224.000000</td>\n",
       "      <td>...</td>\n",
       "      <td>1.000000</td>\n",
       "      <td>0.0</td>\n",
       "      <td>1.000000</td>\n",
       "      <td>6.296289e+07</td>\n",
       "      <td>0.0</td>\n",
       "      <td>7.886000</td>\n",
       "      <td>40.990000</td>\n",
       "      <td>70.000000</td>\n",
       "      <td>1.000000</td>\n",
       "      <td>3.366000</td>\n",
       "    </tr>\n",
       "  </tbody>\n",
       "</table>\n",
       "<p>8 rows × 22 columns</p>\n",
       "</div>"
      ],
      "text/plain": [
       "        PASSED_VQSR            AC  BaseQRankSum     MQRankSum        VQSLOD  \\\n",
       "count  86825.000000  86825.000000  86825.000000  86825.000000  86825.000000   \n",
       "mean       0.786075      1.317409     -0.014988     -0.359260     13.972397   \n",
       "std        0.410077      0.465471      1.206899      1.212392     10.261468   \n",
       "min        0.000000      1.000000     -6.280000     -8.498000    -81.870000   \n",
       "25%        1.000000      1.000000     -0.572000     -0.729000      4.920000   \n",
       "50%        1.000000      1.000000      0.000000      0.000000     17.140000   \n",
       "75%        1.000000      2.000000      0.546000      0.135000     21.050000   \n",
       "max        1.000000      2.000000      6.495000      4.704000     25.200000   \n",
       "\n",
       "            AN          QUAL            FS   #CHROM            DP  \\\n",
       "count  86825.0  86825.000000  86825.000000  86825.0  86825.000000   \n",
       "mean       2.0    305.581818      2.124176     20.0     16.949911   \n",
       "std        0.0    285.849485      3.937809      0.0     13.400111   \n",
       "min        2.0     10.200000      0.000000     20.0      1.000000   \n",
       "25%        2.0    139.770000      0.000000     20.0     11.000000   \n",
       "50%        2.0    238.770000      0.000000     20.0     14.000000   \n",
       "75%        2.0    410.770000      2.750000     20.0     18.000000   \n",
       "max        2.0   6700.770000     71.987000     20.0    224.000000   \n",
       "\n",
       "            ...                MLEAF      MQ0            AF           POS  \\\n",
       "count       ...         86825.000000  86825.0  86825.000000  8.682500e+04   \n",
       "mean        ...             0.658658      0.0      0.658704  3.087785e+07   \n",
       "std         ...             0.232717      0.0      0.232735  1.856583e+07   \n",
       "min         ...             0.500000      0.0      0.500000  6.179500e+04   \n",
       "25%         ...             0.500000      0.0      0.500000  1.539826e+07   \n",
       "50%         ...             0.500000      0.0      0.500000  2.947232e+07   \n",
       "75%         ...             1.000000      0.0      1.000000  4.786703e+07   \n",
       "max         ...             1.000000      0.0      1.000000  6.296289e+07   \n",
       "\n",
       "        FILTER           SOR            QD            MQ  GROUND_TRUTH  \\\n",
       "count  86825.0  86825.000000  86825.000000  86825.000000  86825.000000   \n",
       "mean       0.0      1.175295     18.548858     57.873878      0.834610   \n",
       "std        0.0      0.771929     10.359626      5.106345      0.371534   \n",
       "min        0.0      0.008000      0.060000     20.830000      0.000000   \n",
       "25%        0.0      0.693000     10.310000     60.000000      1.000000   \n",
       "50%        0.0      1.002000     16.230000     60.000000      1.000000   \n",
       "75%        0.0      1.492000     29.620000     60.000000      1.000000   \n",
       "max        0.0      7.886000     40.990000     70.000000      1.000000   \n",
       "\n",
       "       ClippingRankSum  \n",
       "count     86825.000000  \n",
       "mean         -0.011719  \n",
       "std           0.732069  \n",
       "min          -3.575000  \n",
       "25%          -0.358000  \n",
       "50%           0.000000  \n",
       "75%           0.320000  \n",
       "max           3.366000  \n",
       "\n",
       "[8 rows x 22 columns]"
      ]
     },
     "execution_count": 70,
     "metadata": {},
     "output_type": "execute_result"
    }
   ],
   "source": [
    "features.describe()"
   ]
  },
  {
   "cell_type": "markdown",
   "metadata": {},
   "source": [
    "## 83.46% of calls in the VCF file are also in the ground truth file\n",
    "\n",
    "## TODO: determine number of variants in ground truth that are not in the VCF file"
   ]
  },
  {
   "cell_type": "code",
   "execution_count": 71,
   "metadata": {
    "collapsed": false
   },
   "outputs": [
    {
     "data": {
      "text/plain": [
       "(86825, 27)"
      ]
     },
     "execution_count": 71,
     "metadata": {},
     "output_type": "execute_result"
    }
   ],
   "source": [
    "features.shape"
   ]
  },
  {
   "cell_type": "code",
   "execution_count": 22,
   "metadata": {
    "collapsed": false
   },
   "outputs": [
    {
     "data": {
      "text/plain": [
       "60777.49999999999"
      ]
     },
     "execution_count": 22,
     "metadata": {},
     "output_type": "execute_result"
    }
   ],
   "source": [
    "features.shape[0] * 0.7"
   ]
  },
  {
   "cell_type": "markdown",
   "metadata": {},
   "source": [
    "#### There are 86825 total variant calls.  If we use a 70% training set, we can train on about 60,000 samples."
   ]
  },
  {
   "cell_type": "code",
   "execution_count": null,
   "metadata": {
    "collapsed": true
   },
   "outputs": [],
   "source": []
  }
 ],
 "metadata": {
  "kernelspec": {
   "display_name": "Python 2",
   "language": "python",
   "name": "python2"
  },
  "language_info": {
   "codemirror_mode": {
    "name": "ipython",
    "version": 2
   },
   "file_extension": ".py",
   "mimetype": "text/x-python",
   "name": "python",
   "nbconvert_exporter": "python",
   "pygments_lexer": "ipython2",
   "version": "2.7.12"
  }
 },
 "nbformat": 4,
 "nbformat_minor": 0
}
