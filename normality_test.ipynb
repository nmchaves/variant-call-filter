{
 "cells": [
  {
   "cell_type": "code",
   "execution_count": 1,
   "metadata": {
    "collapsed": false
   },
   "outputs": [
    {
     "name": "stderr",
     "output_type": "stream",
     "text": [
      "/Users/nicochaves/anaconda/lib/python2.7/site-packages/matplotlib/font_manager.py:273: UserWarning: Matplotlib is building the font cache using fc-list. This may take a moment.\n",
      "  warnings.warn('Matplotlib is building the font cache using fc-list. This may take a moment.')\n"
     ]
    }
   ],
   "source": [
    "%matplotlib inline \n",
    "import numpy as np\n",
    "import pandas as pd\n",
    "import matplotlib.pyplot as plt"
   ]
  },
  {
   "cell_type": "markdown",
   "metadata": {},
   "source": [
    "## Read in the VCF Data. Separate out VQSR filter labels and VQSLOD (log-odds ratio of being a true variant using mixture of Gaussians)"
   ]
  },
  {
   "cell_type": "code",
   "execution_count": 2,
   "metadata": {
    "collapsed": true
   },
   "outputs": [],
   "source": [
    "data = pd.read_csv('data/preprocessed/vcf_features_with_labels.txt', sep='\\t')\n",
    "passed_vqsr = data['PASSED_VQSR']\n",
    "data = data.drop(['PASSED_VQSR', 'VQSLOD'], axis=1)"
   ]
  },
  {
   "cell_type": "markdown",
   "metadata": {},
   "source": [
    "## Reproduce VQSR plot that motivated them to use mixture of gaussian models\n",
    "\n",
    "### (See slide 8 at https://software.broadinstitute.org/gatk/events/slides/1503/GATKwh6-BP-5-Variant_recalibration.pdf)"
   ]
  },
  {
   "cell_type": "code",
   "execution_count": 17,
   "metadata": {
    "collapsed": false
   },
   "outputs": [
    {
     "data": {
      "text/plain": [
       "<matplotlib.collections.PathCollection at 0x1151d1cd0>"
      ]
     },
     "execution_count": 17,
     "metadata": {},
     "output_type": "execute_result"
    },
    {
     "data": {
      "image/png": "[encoded data removed]",
      "text/plain": [
       "<matplotlib.figure.Figure at 0x114ecfc10>"
      ]
     },
     "metadata": {},
     "output_type": "display_data"
    }
   ],
   "source": [
    "# Column names of relevant fields\n",
    "# Note: the slides above use a field called SB for estimated strand bias. \n",
    "# However, this doesn't seem to exist anymore. It's not in the VCF file\n",
    "# and not on the GATK website's list of annotations. Instead of SB, use\n",
    "# FS (or possibly SOR)\n",
    "depth = 'DP'\n",
    "quality_score = 'QUAL'\n",
    "strand_bias = 'FS'  # Fisher's exact test score for strand bias (high value indicates high bias)\n",
    "\n",
    "depths = data[depth]\n",
    "qual_scores = data[quality_score]\n",
    "strand_biases = data[strand_bias]\n",
    "\n",
    "fig = plt.figure()\n",
    "plt.xlabel('Quality Score / Depth')\n",
    "plt.ylabel('Strand Bias')\n",
    "plt.scatter(qual_scores/depths, strand_biases)\n",
    "\n"
   ]
  },
  {
   "cell_type": "markdown",
   "metadata": {},
   "source": [
    "## Filter the Data by Pos/Neg VQSR Filter Labels (It would be better to use the ground truth for these labels though) "
   ]
  },
  {
   "cell_type": "code",
   "execution_count": null,
   "metadata": {
    "collapsed": true
   },
   "outputs": [],
   "source": []
  },
  {
   "cell_type": "code",
   "execution_count": null,
   "metadata": {
    "collapsed": true
   },
   "outputs": [],
   "source": []
  },
  {
   "cell_type": "code",
   "execution_count": null,
   "metadata": {
    "collapsed": true
   },
   "outputs": [],
   "source": [
    "# Kolmogorov Smirnov Normality Test\n",
    "\n",
    "from scipy import stats\n",
    "import numpy as np\n",
    "\n",
    "x = np.linspace(-15, 15, 9)\n",
    "stats.kstest(x, 'norm')"
   ]
  }
 ],
 "metadata": {
  "kernelspec": {
   "display_name": "Python 2",
   "language": "python",
   "name": "python2"
  },
  "language_info": {
   "codemirror_mode": {
    "name": "ipython",
    "version": 2
   },
   "file_extension": ".py",
   "mimetype": "text/x-python",
   "name": "python",
   "nbconvert_exporter": "python",
   "pygments_lexer": "ipython2",
   "version": "2.7.12"
  }
 },
 "nbformat": 4,
 "nbformat_minor": 0
}
