{
 "cells": [
  {
   "cell_type": "markdown",
   "metadata": {},
   "source": [
    "# Training & Evaluation of Several Filters"
   ]
  },
  {
   "cell_type": "code",
   "execution_count": 1,
   "metadata": {
    "collapsed": false
   },
   "outputs": [
    {
     "name": "stderr",
     "output_type": "stream",
     "text": [
      "/Users/nicochaves/anaconda/lib/python2.7/site-packages/matplotlib/font_manager.py:273: UserWarning: Matplotlib is building the font cache using fc-list. This may take a moment.\n",
      "  warnings.warn('Matplotlib is building the font cache using fc-list. This may take a moment.')\n",
      "/Users/nicochaves/anaconda/lib/python2.7/site-packages/sklearn/cross_validation.py:44: DeprecationWarning: This module was deprecated in version 0.18 in favor of the model_selection module into which all the refactored classes and functions are moved. Also note that the interface of the new CV iterators are different from that of this module. This module will be removed in 0.20.\n",
      "  \"This module will be removed in 0.20.\", DeprecationWarning)\n",
      "/Users/nicochaves/anaconda/lib/python2.7/site-packages/sklearn/grid_search.py:43: DeprecationWarning: This module was deprecated in version 0.18 in favor of the model_selection module into which all the refactored classes and functions are moved. This module will be removed in 0.20.\n",
      "  DeprecationWarning)\n"
     ]
    }
   ],
   "source": [
    "%matplotlib inline\n",
    "import matplotlib.pyplot as plt\n",
    "import pandas as pd\n",
    "import numpy as np\n",
    "from sklearn import linear_model\n",
    "from sklearn.model_selection import train_test_split, StratifiedKFold\n",
    "from sklearn.metrics import precision_score, recall_score, accuracy_score, f1_score\n",
    "from sklearn.grid_search import GridSearchCV\n",
    "from sklearn.svm import SVC, OneClassSVM\n",
    "from sklearn.ensemble import RandomForestClassifier\n",
    "import time\n",
    "from math import sqrt\n",
    "from sklearn.externals import joblib\n",
    "from os.path import join"
   ]
  },
  {
   "cell_type": "code",
   "execution_count": 2,
   "metadata": {
    "collapsed": true
   },
   "outputs": [],
   "source": [
    "### Set Relevant Paths"
   ]
  },
  {
   "cell_type": "code",
   "execution_count": 3,
   "metadata": {
    "collapsed": true
   },
   "outputs": [],
   "source": [
    "data_dir = '../../data'\n",
    "saved_models_dir = 'saved_models'"
   ]
  },
  {
   "cell_type": "markdown",
   "metadata": {},
   "source": [
    "## Load Training and Test Data"
   ]
  },
  {
   "cell_type": "code",
   "execution_count": 4,
   "metadata": {
    "collapsed": false
   },
   "outputs": [],
   "source": [
    "file_dir = join(data_dir,'processed/chrom20')\n",
    "filename = 'NA12878.LowSeq.illumina.bwa.sorted.dedup.20.sam.wFlag.qual.recalibrated.filtered.noNAN.scaled.withGndTruthLabels'\n",
    "train_file = join(file_dir, filename + '.train.table')\n",
    "test_file = join(file_dir, filename + '.test.table')\n",
    "\n",
    "df_train_full = pd.read_csv(train_file, sep='\\t') # training and dev sets combined\n",
    "df_test = pd.read_csv(test_file, sep='\\t')"
   ]
  },
  {
   "cell_type": "code",
   "execution_count": 5,
   "metadata": {
    "collapsed": false
   },
   "outputs": [
    {
     "name": "stdout",
     "output_type": "stream",
     "text": [
      "Features (some of these may get taken out):  Index([u'Unnamed: 0', u'QUAL', u'AC', u'AF', u'DP', u'FS', u'MLEAC', u'MLEAF',\n",
      "       u'MQ', u'QD', u'SOR', u'sample1.DP', u'sample1.GQ',\n",
      "       u'POSITIVE_TRAIN_SITE', u'DB', u'FILTER', u'GROUND_TRUTH'],\n",
      "      dtype='object')\n",
      "# training examples:  60790\n",
      "# test examples:  26053\n"
     ]
    }
   ],
   "source": [
    "print 'Features (some of these may get taken out): ', df_train_full.columns\n",
    "print '# training examples: ', df_train_full.shape[0]\n",
    "print '# test examples: ', df_test.shape[0]"
   ]
  },
  {
   "cell_type": "code",
   "execution_count": 6,
   "metadata": {
    "collapsed": false
   },
   "outputs": [],
   "source": [
    "df_train_full = df_train_full.drop('Unnamed: 0', axis=1)  \n",
    "df_test = df_test.drop('Unnamed: 0', axis=1)"
   ]
  },
  {
   "cell_type": "markdown",
   "metadata": {},
   "source": [
    "## Split train into train and dev, and split into X and Y"
   ]
  },
  {
   "cell_type": "code",
   "execution_count": 7,
   "metadata": {
    "collapsed": true
   },
   "outputs": [],
   "source": [
    "num_train = df_train_full.shape[0]\n",
    "idx_train_dev = train_test_split(range(num_train), range(num_train), test_size = 0.3, random_state=0)\n",
    "idx_train = idx_train_dev[0]\n",
    "idx_dev = idx_train_dev[1]"
   ]
  },
  {
   "cell_type": "code",
   "execution_count": 8,
   "metadata": {
    "collapsed": true
   },
   "outputs": [],
   "source": [
    "df_train = df_train_full.loc[idx_train,:]\n",
    "df_dev = df_train_full.loc[idx_dev,:]\n",
    "\n",
    "df_train_Y = df_train['GROUND_TRUTH']\n",
    "df_train_X = df_train.drop(['GROUND_TRUTH'], axis=1)\n",
    "\n",
    "df_dev_Y = df_dev['GROUND_TRUTH']\n",
    "df_dev_X = df_dev.drop(['GROUND_TRUTH'], axis=1)\n",
    "\n",
    "df_test_Y = df_test['GROUND_TRUTH']\n",
    "df_test_X = df_test.drop(['GROUND_TRUTH'], axis=1)\n",
    "\n",
    "df_train_full_Y = df_train_full['GROUND_TRUTH']\n",
    "df_train_full_X = df_train_full.drop(['GROUND_TRUTH'], axis=1)"
   ]
  },
  {
   "cell_type": "markdown",
   "metadata": {},
   "source": [
    "# Evaluate VQSR Performance"
   ]
  },
  {
   "cell_type": "code",
   "execution_count": 9,
   "metadata": {
    "collapsed": false
   },
   "outputs": [],
   "source": [
    "# See https://software.broadinstitute.org/gatk/guide/article?id=39 for interpretation of tranche labels\n",
    "\n",
    "LOW_QUAL = 'LowQual'\n",
    "TRANCHE_99_9 = 'VQSRTrancheSNP99.90to100.00' # if you ignore these and the above, you recover at most 99.9% of all variants. has some low vqslod values\n",
    "TRANCHE_99 = 'VQSRTrancheSNP99.00to99.90' # if you retain these and ignore the above, you'll recover at most 99% of variants. \n",
    "PASS_ALL = 'PASS'  # if you **retain** these and ignore the above, you'll recover at most 90% of the variants\n",
    "\n",
    "def did_variant_pass_filter(label, tranche):\n",
    "    return label == PASS_ALL or \\\n",
    "            (tranche == TRANCHE_99 and label == TRANCHE_99) or \\\n",
    "            (tranche == TRANCHE_99_9 and (label == TRANCHE_99 or label == TRANCHE_99_9))\n",
    "            \n",
    "def convert_vqsr_labels(raw_labels, tranche=None):\n",
    "    num_labels = raw_labels.shape[0]\n",
    "    labels = num_labels * [0]\n",
    "    for i, label in enumerate(raw_labels):\n",
    "        if did_variant_pass_filter(label, tranche):\n",
    "            labels[i] = 1\n",
    "    return labels        "
   ]
  },
  {
   "cell_type": "code",
   "execution_count": 10,
   "metadata": {
    "collapsed": false
   },
   "outputs": [
    {
     "name": "stdout",
     "output_type": "stream",
     "text": [
      "Tranche:  VQSRTrancheSNP99.00to99.90\n",
      "VQSR Dev Accuracy:  0.925755332566\n",
      "VQSR Test Accuracy:  0.926495988946\n",
      "Precision:  0.943699132457\n",
      "Recall:  0.969851555678\n",
      "F1 score:  0.924222890917\n",
      "Tranche:  VQSRTrancheSNP99.90to100.00\n",
      "VQSR Dev Accuracy:  0.838405439491\n",
      "VQSR Test Accuracy:  0.838137642498\n",
      "Precision:  0.8460233549\n",
      "Recall:  0.985569189761\n",
      "F1 score:  0.78619962665\n",
      "Tranche:  PASS\n",
      "VQSR Dev Accuracy:  0.917475461973\n",
      "VQSR Test Accuracy:  0.921275860745\n",
      "Precision:  0.980917520742\n",
      "Recall:  0.923709729307\n",
      "F1 score:  0.925161085262\n"
     ]
    }
   ],
   "source": [
    "vqsr_dev_labels = df_dev_X['FILTER']\n",
    "vqsr_test_labels = df_test_X['FILTER']\n",
    "vqsr_tranches_uniq = set(df_dev_X['FILTER'])\n",
    "\n",
    "if LOW_QUAL in vqsr_tranches_uniq:\n",
    "    vqsr_tranches_uniq -= {LOW_QUAL}\n",
    "\n",
    "vqsr_tranches_uniq = list(vqsr_tranches_uniq)    \n",
    "\n",
    "vqsr_prec = np.zeros(len(vqsr_tranches_uniq))\n",
    "vqsr_recall = np.zeros(len(vqsr_tranches_uniq))\n",
    "vqsr_f1 = np.zeros(len(vqsr_tranches_uniq))\n",
    "\n",
    "for i, tranche in enumerate(vqsr_tranches_uniq):\n",
    "    print 'Tranche: ', tranche\n",
    "    vqsr_dev_labels_binary = convert_vqsr_labels(vqsr_dev_labels, tranche)\n",
    "    vqsr_dev_acc = accuracy_score(df_dev_Y, vqsr_dev_labels_binary)\n",
    "    print 'VQSR Dev Accuracy: ', vqsr_dev_acc\n",
    "    vqsr_test_labels_binary = convert_vqsr_labels(vqsr_test_labels, tranche)\n",
    "    vqsr_test_acc = accuracy_score(df_test_Y, vqsr_test_labels_binary)\n",
    "    print 'VQSR Test Accuracy: ', vqsr_test_acc\n",
    "    \n",
    "    vqsr_prec[i] = precision_score(df_test_Y, vqsr_test_labels_binary)\n",
    "    vqsr_recall[i] = recall_score(df_test_Y, vqsr_test_labels_binary)\n",
    "    print 'Precision: ', vqsr_prec[i]\n",
    "    print 'Recall: ', vqsr_recall[i]\n",
    "    \n",
    "    \n",
    "    vqsr_f1[i] = f1_score(df_test_Y, vqsr_test_labels_binary, average='weighted')  \n",
    "    print 'F1 score: ', vqsr_f1[i]"
   ]
  },
  {
   "cell_type": "markdown",
   "metadata": {
    "collapsed": true
   },
   "source": [
    "### TODO: Consider using VQSLOD to obtain AUC Score. Issue is that sometimes the VQSLOD is NAN"
   ]
  },
  {
   "cell_type": "code",
   "execution_count": 12,
   "metadata": {
    "collapsed": false
   },
   "outputs": [
    {
     "data": {
      "text/plain": [
       "Index([u'Unnamed: 0', u'QUAL', u'AC', u'AF', u'DP', u'FS', u'MLEAC', u'MLEAF',\n",
       "       u'MQ', u'QD', u'SOR', u'sample1.DP', u'sample1.GQ',\n",
       "       u'POSITIVE_TRAIN_SITE', u'DB', u'FILTER', u'GROUND_TRUTH'],\n",
       "      dtype='object')"
      ]
     },
     "execution_count": 12,
     "metadata": {},
     "output_type": "execute_result"
    }
   ],
   "source": [
    "## Verify that the VQSR tranches worked as expected\n",
    "df2 = pd.read_csv(join(data_dir, file_dir + filename + '.table'), sep='\\t') # training and dev sets combined\n",
    "df2.columns"
   ]
  },
  {
   "cell_type": "code",
   "execution_count": 13,
   "metadata": {
    "collapsed": false
   },
   "outputs": [
    {
     "name": "stdout",
     "output_type": "stream",
     "text": [
      "# of positive training sites used by VQSR:  65506\n"
     ]
    }
   ],
   "source": [
    "df2_pos = df2[df2['POSITIVE_TRAIN_SITE'] == 1]['FILTER']\n",
    "num_pos_training_sites = df2_pos.shape[0]\n",
    "print '# of positive training sites used by VQSR: ', num_pos_training_sites"
   ]
  },
  {
   "cell_type": "code",
   "execution_count": 14,
   "metadata": {
    "collapsed": false
   },
   "outputs": [
    {
     "name": "stdout",
     "output_type": "stream",
     "text": [
      "# PASS:  63459  or  96.8750954111 %\n",
      "# VQSRTrancheSNP99.00to99.90:  1904  or  2.90660397521 %\n",
      "# VQSRTrancheSNP99.90to100.0:  143  or  0.218300613684 %\n",
      "# LowQual:  0\n"
     ]
    }
   ],
   "source": [
    "numPass = df2_pos[df2_pos == 'PASS'].shape[0]\n",
    "num99 = df2_pos[df2_pos == 'VQSRTrancheSNP99.00to99.90'].shape[0]\n",
    "num99_9 = df2_pos[df2_pos == 'VQSRTrancheSNP99.90to100.00'].shape[0]\n",
    "numLowQual = df2_pos[df2_pos == 'LowQual'].shape[0]\n",
    "\n",
    "print '# PASS: ', numPass, ' or ', 100.0*numPass/num_pos_training_sites, '%'\n",
    "print '# VQSRTrancheSNP99.00to99.90: ', num99, ' or ', 100.0*num99/num_pos_training_sites, '%'\n",
    "print '# VQSRTrancheSNP99.90to100.0: ', num99_9, ' or ', 100.0*num99_9/num_pos_training_sites, '%'\n",
    "print '# LowQual: ', numLowQual"
   ]
  },
  {
   "cell_type": "code",
   "execution_count": 15,
   "metadata": {
    "collapsed": false
   },
   "outputs": [
    {
     "data": {
      "text/plain": [
       "99.78169938631001"
      ]
     },
     "execution_count": 15,
     "metadata": {},
     "output_type": "execute_result"
    }
   ],
   "source": [
    "96.8750954111+ 2.90660397521"
   ]
  },
  {
   "cell_type": "markdown",
   "metadata": {},
   "source": [
    "### It appears that VQSR rounds the VQSLOD thresholds because these sensitivities are not extremely close to the advertised levels. "
   ]
  },
  {
   "cell_type": "markdown",
   "metadata": {},
   "source": [
    "## Remove VQSR Filter label so that we can run non-VQSR methods"
   ]
  },
  {
   "cell_type": "code",
   "execution_count": 16,
   "metadata": {
    "collapsed": false
   },
   "outputs": [],
   "source": [
    "df_train_X = df_train_X.drop(['FILTER'], axis=1)\n",
    "df_dev_X = df_dev_X.drop(['FILTER'], axis=1)\n",
    "df_train_full_X = df_train_full_X.drop(['FILTER'], axis=1)\n",
    "df_test_X = df_test_X.drop(['FILTER'], axis=1)"
   ]
  },
  {
   "cell_type": "markdown",
   "metadata": {},
   "source": [
    "# Supervised Learning Approaches"
   ]
  },
  {
   "cell_type": "code",
   "execution_count": 17,
   "metadata": {
    "collapsed": true
   },
   "outputs": [],
   "source": [
    "# Number of folds for cross validation\n",
    "num_folds = 5\n",
    "\n",
    "# Loss function to use. Must be either 'l1' or 'l2'\n",
    "loss_function = 'l2'  "
   ]
  },
  {
   "cell_type": "code",
   "execution_count": 18,
   "metadata": {
    "collapsed": true
   },
   "outputs": [],
   "source": [
    "def f1_prec_recall(pred, labels, verbose=True):\n",
    "    f1 = f1_score(pred, labels, average='binary')\n",
    "    prec = precision_score(pred, labels)\n",
    "    recall = recall_score(pred, labels)\n",
    "    \n",
    "    if verbose:\n",
    "        # Make a Pandas DataFrame to print results more nicely\n",
    "        df = pd.DataFrame(data=np.asarray([[f1, prec, recall]]),\n",
    "                         columns=['F1', 'Precision', 'Recall'])\n",
    "        print df.to_string(index=False, justify='left')\n",
    "        \n",
    "    return f1, prec, recall"
   ]
  },
  {
   "cell_type": "markdown",
   "metadata": {
    "collapsed": true
   },
   "source": [
    "## Logistic Regression"
   ]
  },
  {
   "cell_type": "code",
   "execution_count": 19,
   "metadata": {
    "collapsed": false
   },
   "outputs": [
    {
     "name": "stdout",
     "output_type": "stream",
     "text": [
      "Logistic Regression CV Time (in seconds):  29.245917\n"
     ]
    }
   ],
   "source": [
    "lr_start = time.clock()\n",
    "\n",
    "lr_params = {'C':np.logspace(-3, 5, 20)}\n",
    "lr_obj = linear_model.LogisticRegression(penalty=loss_function, random_state=0)\n",
    "\n",
    "# Note: GridSearchCV will automatically use Stratified k-fold CV if the labels are binary and \n",
    "# the 'cv' parameter is an int\n",
    "lr_classifier = GridSearchCV(lr_obj, lr_params, cv=num_folds, scoring='f1')\n",
    "lr_classifier.fit(df_train_X, df_train_Y)\n",
    "\n",
    "lr_stop = time.clock()\n",
    "lr_time_train = lr_stop - lr_start\n",
    "\n",
    "print 'Logistic Regression CV Time (in seconds): ', lr_time_train"
   ]
  },
  {
   "cell_type": "code",
   "execution_count": 20,
   "metadata": {
    "collapsed": false
   },
   "outputs": [
    {
     "data": {
      "text/plain": [
       "['saved_models/lr_classifier']"
      ]
     },
     "execution_count": 20,
     "metadata": {},
     "output_type": "execute_result"
    }
   ],
   "source": [
    "# Save the classifier\n",
    "joblib.dump(lr_classifier, join(saved_models_dir,'lr_classifier'))"
   ]
  },
  {
   "cell_type": "code",
   "execution_count": null,
   "metadata": {
    "collapsed": true
   },
   "outputs": [],
   "source": [
    "# Load the saved classifier\n",
    "lr_classifier = joblib.load(join(saved_models_dir,'lr_classifier'))"
   ]
  },
  {
   "cell_type": "code",
   "execution_count": 21,
   "metadata": {
    "collapsed": false
   },
   "outputs": [
    {
     "name": "stdout",
     "output_type": "stream",
     "text": [
      "Logistic Regression Best Estimator:  LogisticRegression(C=5455.5947811685146, class_weight=None, dual=False,\n",
      "          fit_intercept=True, intercept_scaling=1, max_iter=100,\n",
      "          multi_class='ovr', n_jobs=1, penalty='l2', random_state=0,\n",
      "          solver='liblinear', tol=0.0001, verbose=0, warm_start=False)\n"
     ]
    }
   ],
   "source": [
    "print 'Logistic Regression Best Estimator: ', lr_classifier.best_estimator_"
   ]
  },
  {
   "cell_type": "markdown",
   "metadata": {},
   "source": [
    "## Support Vector Classifier"
   ]
  },
  {
   "cell_type": "code",
   "execution_count": 28,
   "metadata": {
    "collapsed": false
   },
   "outputs": [
    {
     "name": "stdout",
     "output_type": "stream",
     "text": [
      "SVC CV Time (in seconds):  265.314553\n"
     ]
    }
   ],
   "source": [
    "svc_num_folds = 3\n",
    "\n",
    "svc_start = time.clock()\n",
    "\n",
    "svc_params = {'C':np.logspace(2, 4, 3), 'gamma':[0.1]}\n",
    "svc_obj = SVC(kernel='rbf', random_state=0)\n",
    "\n",
    "# Note: GridSearchCV will automatically use Stratified k-fold CV if the labels are binary and \n",
    "# the 'cv' parameter is an int\n",
    "svc_classifier = GridSearchCV(svc_obj, svc_params, cv=svc_num_folds, scoring='f1')\n",
    "svc_classifier.fit(df_train_X, df_train_Y)\n",
    "\n",
    "svc_stop = time.clock()\n",
    "svc_time_train = svc_stop - svc_start\n",
    "\n",
    "print 'SVC CV Time (in seconds): ', svc_time_train"
   ]
  },
  {
   "cell_type": "code",
   "execution_count": 29,
   "metadata": {
    "collapsed": false
   },
   "outputs": [
    {
     "data": {
      "text/plain": [
       "['saved_models/svc_classifier']"
      ]
     },
     "execution_count": 29,
     "metadata": {},
     "output_type": "execute_result"
    }
   ],
   "source": [
    "# Save the classifier\n",
    "joblib.dump(svc_classifier, join(saved_models_dir,'svc_classifier'))"
   ]
  },
  {
   "cell_type": "code",
   "execution_count": null,
   "metadata": {
    "collapsed": true
   },
   "outputs": [],
   "source": [
    "# Load the classifier\n",
    "svc_classifier = joblib.load(join(saved_models_dir,'svc_classifier'))"
   ]
  },
  {
   "cell_type": "code",
   "execution_count": 30,
   "metadata": {
    "collapsed": false
   },
   "outputs": [
    {
     "name": "stdout",
     "output_type": "stream",
     "text": [
      "SVC Best Estimator:  SVC(C=10000.0, cache_size=200, class_weight=None, coef0=0.0,\n",
      "  decision_function_shape=None, degree=3, gamma=0.1, kernel='rbf',\n",
      "  max_iter=-1, probability=False, random_state=0, shrinking=True,\n",
      "  tol=0.001, verbose=False)\n"
     ]
    }
   ],
   "source": [
    "print 'SVC Best Estimator: ', svc_classifier.best_estimator_"
   ]
  },
  {
   "cell_type": "code",
   "execution_count": null,
   "metadata": {
    "collapsed": true
   },
   "outputs": [],
   "source": []
  },
  {
   "cell_type": "code",
   "execution_count": 20,
   "metadata": {
    "collapsed": false
   },
   "outputs": [
    {
     "name": "stdout",
     "output_type": "stream",
     "text": [
      "SVC CV Time (in seconds):  1520.217525\n"
     ]
    }
   ],
   "source": [
    "svc_start = time.clock()\n",
    "\n",
    "svc_params = {'C':np.logspace(0, 3, 5), 'gamma':[0.05, 0.1]}\n",
    "svc_obj = SVC(kernel='rbf', random_state=0)\n",
    "\n",
    "# Note: GridSearchCV will automatically use Stratified k-fold CV if the labels are binary and \n",
    "# the 'cv' parameter is an int\n",
    "svc_classifier = GridSearchCV(svc_obj, svc_params, cv=num_folds)\n",
    "svc_classifier.fit(df_train_X, df_train_Y)\n",
    "\n",
    "svc_stop = time.clock()\n",
    "svc_time_train = svc_stop - svc_start\n",
    "\n",
    "print 'SVC CV Time (in seconds): ', svc_time_train"
   ]
  },
  {
   "cell_type": "code",
   "execution_count": 21,
   "metadata": {
    "collapsed": false
   },
   "outputs": [
    {
     "name": "stdout",
     "output_type": "stream",
     "text": [
      "SVC Best Score:  0.961741827838\n",
      "SVC Best Estimator:  SVC(C=1000.0, cache_size=200, class_weight=None, coef0=0.0,\n",
      "  decision_function_shape=None, degree=3, gamma=0.1, kernel='rbf',\n",
      "  max_iter=-1, probability=False, random_state=0, shrinking=True,\n",
      "  tol=0.001, verbose=False)\n",
      "SVC Score on Dev Set:  0.960300488019\n"
     ]
    }
   ],
   "source": [
    "svc_best_est = svc_classifier.best_estimator_\n",
    "print 'SVC Best Score: ', svc_classifier.best_score_\n",
    "print 'SVC Best Estimator: ', svc_best_est\n",
    "svc_dev_score = svc_classifier.score(df_dev_X, df_dev_Y)\n",
    "print 'SVC Score on Dev Set: ', svc_dev_score"
   ]
  },
  {
   "cell_type": "markdown",
   "metadata": {},
   "source": [
    "## Random Forest Classifier"
   ]
  },
  {
   "cell_type": "code",
   "execution_count": 24,
   "metadata": {
    "collapsed": false
   },
   "outputs": [
    {
     "name": "stdout",
     "output_type": "stream",
     "text": [
      "Random Forest CV Time (in seconds):  116.039363\n"
     ]
    }
   ],
   "source": [
    "num_features = df_train_X.shape[1]\n",
    "\n",
    "rf_start = time.clock()\n",
    "\n",
    "# Use 20 trees in the forest (if you have the time or resources, consider using more trees)\n",
    "# However, I've tried up to 50 trees and it makes very little difference on dev set error\n",
    "rf_params = {\"n_estimators\":[20], \n",
    "             \"criterion\": [\"gini\", \"entropy\"], \n",
    "             \"max_features\": range(int(sqrt(num_features)), num_features, 2)\n",
    "            }\n",
    "rf_obj = RandomForestClassifier(random_state=0)\n",
    "\n",
    "rf_classifier = GridSearchCV(rf_obj, rf_params, cv=num_folds, scoring='f1')\n",
    "rf_classifier.fit(df_train_X, df_train_Y)\n",
    "\n",
    "rf_stop = time.clock()\n",
    "rf_time_train = rf_stop - rf_start\n",
    "\n",
    "print 'Random Forest CV Time (in seconds): ', rf_time_train"
   ]
  },
  {
   "cell_type": "code",
   "execution_count": 25,
   "metadata": {
    "collapsed": false
   },
   "outputs": [
    {
     "data": {
      "text/plain": [
       "['saved_models/rf_classifier']"
      ]
     },
     "execution_count": 25,
     "metadata": {},
     "output_type": "execute_result"
    }
   ],
   "source": [
    "# Save the classifier\n",
    "joblib.dump(rf_classifier, join(saved_models_dir,'rf_classifier'))"
   ]
  },
  {
   "cell_type": "code",
   "execution_count": null,
   "metadata": {
    "collapsed": true
   },
   "outputs": [],
   "source": [
    "rf_classifier = joblib.load(join(saved_models_dir,'rf_classifier'))"
   ]
  },
  {
   "cell_type": "code",
   "execution_count": 26,
   "metadata": {
    "collapsed": false
   },
   "outputs": [
    {
     "name": "stdout",
     "output_type": "stream",
     "text": [
      "Rand Forest Best Estimator:  RandomForestClassifier(bootstrap=True, class_weight=None, criterion='entropy',\n",
      "            max_depth=None, max_features=3, max_leaf_nodes=None,\n",
      "            min_impurity_split=1e-07, min_samples_leaf=1,\n",
      "            min_samples_split=2, min_weight_fraction_leaf=0.0,\n",
      "            n_estimators=20, n_jobs=1, oob_score=False, random_state=0,\n",
      "            verbose=0, warm_start=False)\n"
     ]
    }
   ],
   "source": [
    "print 'Rand Forest Best Estimator: ', rf_classifier.best_estimator_"
   ]
  },
  {
   "cell_type": "markdown",
   "metadata": {},
   "source": [
    "# Evaluate classifiers on test set. First, we need to retrain classifiers on full dataset using optimal parameters that we found above using cross validation"
   ]
  },
  {
   "cell_type": "markdown",
   "metadata": {},
   "source": [
    "## Logistic Regression"
   ]
  },
  {
   "cell_type": "code",
   "execution_count": 23,
   "metadata": {
    "collapsed": false
   },
   "outputs": [
    {
     "name": "stdout",
     "output_type": "stream",
     "text": [
      "Execution Time (in seconds):  0.639834\n",
      "F1        Precision  Recall  \n",
      "0.974776  0.970096   0.979503\n"
     ]
    }
   ],
   "source": [
    "lr_start = time.clock()\n",
    "\n",
    "lr_classifier_full = linear_model.LogisticRegression(penalty=loss_function, C=lr_classifier.best_estimator_.C)\n",
    "lr_classifier_full.fit(df_train_full_X, df_train_full_Y) \n",
    "lr_pred_test = lr_classifier_full.predict(df_test_X)\n",
    "\n",
    "lr_stop = time.clock()\n",
    "lr_time_test = lr_stop - lr_start\n",
    "print 'Execution Time (in seconds): ', lr_time_test\n",
    "\n",
    "lr_f1, lr_prec, lr_recall = f1_prec_recall(df_test_Y, lr_pred_test)  "
   ]
  },
  {
   "cell_type": "markdown",
   "metadata": {},
   "source": [
    "## SVC"
   ]
  },
  {
   "cell_type": "code",
   "execution_count": 32,
   "metadata": {
    "collapsed": false
   },
   "outputs": [
    {
     "name": "stdout",
     "output_type": "stream",
     "text": [
      "Execution Time (in seconds):  183.794678\n",
      "F1        Precision  Recall  \n",
      "0.979253  0.972703   0.985891\n"
     ]
    }
   ],
   "source": [
    "svc_start = time.clock()\n",
    "\n",
    "svc_best_est = svc_classifier.best_estimator_\n",
    "svc_classifier_full = SVC(kernel='rbf', gamma=svc_best_est.gamma, C=svc_best_est.C)\n",
    "svc_classifier_full.fit(df_train_full_X, df_train_full_Y) \n",
    "svc_pred_test = svc_classifier_full.predict(df_test_X)\n",
    "\n",
    "svc_stop = time.clock()\n",
    "svc_time_test = svc_stop - svc_start\n",
    "print 'Execution Time (in seconds): ', svc_time_test\n",
    "\n",
    "svc_f1, svc_prec, svc_recall = f1_prec_recall(df_test_Y, svc_pred_test)  "
   ]
  },
  {
   "cell_type": "markdown",
   "metadata": {},
   "source": [
    "## Random Forest"
   ]
  },
  {
   "cell_type": "code",
   "execution_count": 33,
   "metadata": {
    "collapsed": false
   },
   "outputs": [
    {
     "name": "stdout",
     "output_type": "stream",
     "text": [
      "Execution Time (in seconds):  1.895142\n",
      "F1        Precision  Recall  \n",
      "0.979571  0.976307   0.982858\n"
     ]
    }
   ],
   "source": [
    "rf_start = time.clock()\n",
    "\n",
    "rf_best_est = rf_classifier.best_estimator_\n",
    "rf_model_full = RandomForestClassifier(n_estimators=rf_best_est.n_estimators, \n",
    "                                       criterion=rf_best_est.criterion,\n",
    "                                       max_features=rf_best_est.max_features)\n",
    "rf_model_full.fit(df_train_full_X, df_train_full_Y)\n",
    "rf_pred_test = rf_model_full.predict(df_test_X)\n",
    "\n",
    "rf_stop = time.clock()\n",
    "rf_time_test = rf_stop - rf_start\n",
    "print 'Execution Time (in seconds): ', rf_time_test\n",
    "\n",
    "rf_f1, rf_prec, rf_recall = f1_prec_recall(df_test_Y, rf_pred_test)  "
   ]
  },
  {
   "cell_type": "markdown",
   "metadata": {},
   "source": [
    "# Plot the Results"
   ]
  },
  {
   "cell_type": "code",
   "execution_count": 36,
   "metadata": {
    "collapsed": false
   },
   "outputs": [],
   "source": [
    "methods = ['VQSR (99%)', 'VQSR (99.9%)', 'Logistic Reg', 'SVM', 'Rand Forest']\n",
    "colors = ['c', 'b', 'r', 'purple', 'g']\n",
    "vqsr_tranche_idx_99 = vqsr_tranches_uniq.index(PASS_ALL)\n",
    "vqsr_tranche_idx_99_9 = vqsr_tranches_uniq.index(TRANCHE_99)\n",
    "\n",
    "font = {'family' : 'normal',\n",
    "        'weight' : 'normal',\n",
    "        'size'   : 14}\n",
    "\n",
    "plt.rc('font', **font)"
   ]
  },
  {
   "cell_type": "code",
   "execution_count": 38,
   "metadata": {
    "collapsed": false
   },
   "outputs": [
    {
     "data": {
      "text/plain": [
       "<matplotlib.figure.Figure at 0x11826ddd0>"
      ]
     },
     "metadata": {},
     "output_type": "display_data"
    },
    {
     "data": {
      "image/png": "[encoded data removed]",
      "text/plain": [
       "<matplotlib.figure.Figure at 0x11e470e10>"
      ]
     },
     "metadata": {},
     "output_type": "display_data"
    }
   ],
   "source": [
    "plt.figure()\n",
    "\n",
    "f1s = [vqsr_f1[vqsr_tranche_idx_99], vqsr_f1[vqsr_tranche_idx_99_9], lr_f1, svc_f1, rf_f1]\n",
    "ind = np.arange(len(methods))  # the x locations for the groups\n",
    "width = 0.35       # the width of the bars\n",
    "\n",
    "fig, ax = plt.subplots()\n",
    "rects = ax.bar(ind, f1s, width)\n",
    "for i,c in enumerate(colors):\n",
    "    rects[i].set_color(c)\n",
    "\n",
    "ax.set_xticks(ind + width/2)\n",
    "ax.set_xticklabels((methods), rotation=-30)\n",
    "\n",
    "plt.ylim([0.9, 1.0])\n",
    "plt.ylabel('F1 Score', fontsize=24)\n",
    "plt.show()"
   ]
  },
  {
   "cell_type": "code",
   "execution_count": 39,
   "metadata": {
    "collapsed": false
   },
   "outputs": [
    {
     "data": {
      "text/plain": [
       "<matplotlib.figure.Figure at 0x1187ee610>"
      ]
     },
     "metadata": {},
     "output_type": "display_data"
    },
    {
     "data": {
      "image/png": "[encoded data removed]",
      "text/plain": [
       "<matplotlib.figure.Figure at 0x11e461490>"
      ]
     },
     "metadata": {},
     "output_type": "display_data"
    }
   ],
   "source": [
    "plt.figure()\n",
    "\n",
    "precs = [vqsr_prec[vqsr_tranche_idx_99], vqsr_prec[vqsr_tranche_idx_99_9], lr_prec, svc_prec, rf_prec]\n",
    "ind = np.arange(len(methods))  # the x locations for the groups\n",
    "width = 0.35       # the width of the bars\n",
    "\n",
    "fig, ax = plt.subplots()\n",
    "rects = ax.bar(ind, precs, width)\n",
    "for i,c in enumerate(colors):\n",
    "    rects[i].set_color(c)\n",
    "\n",
    "ax.set_xticks(ind + width/2)\n",
    "ax.set_xticklabels((methods), rotation=-30)\n",
    "\n",
    "plt.ylim([0.9, 1.0])\n",
    "plt.ylabel('Precision', fontsize=24)\n",
    "plt.show()"
   ]
  },
  {
   "cell_type": "code",
   "execution_count": 40,
   "metadata": {
    "collapsed": false
   },
   "outputs": [
    {
     "data": {
      "text/plain": [
       "<matplotlib.figure.Figure at 0x117fa6910>"
      ]
     },
     "metadata": {},
     "output_type": "display_data"
    },
    {
     "data": {
      "image/png": "[encoded data removed]",
      "text/plain": [
       "<matplotlib.figure.Figure at 0x117f80590>"
      ]
     },
     "metadata": {},
     "output_type": "display_data"
    }
   ],
   "source": [
    "plt.figure()\n",
    "\n",
    "recalls = [vqsr_recall[vqsr_tranche_idx_99], vqsr_recall[vqsr_tranche_idx_99_9], lr_recall, svc_recall, rf_recall]\n",
    "ind = np.arange(len(methods))  # the x locations for the groups\n",
    "width = 0.35       # the width of the bars\n",
    "\n",
    "fig, ax = plt.subplots()\n",
    "rects = ax.bar(ind, recalls, width)\n",
    "for i,c in enumerate(colors):\n",
    "    rects[i].set_color(c)\n",
    "\n",
    "ax.set_xticks(ind + width/2)\n",
    "ax.set_xticklabels((methods), rotation=-30)\n",
    "\n",
    "plt.ylim([0.9, 1.0])\n",
    "plt.ylabel('Recall', fontsize=24)\n",
    "plt.show()"
   ]
  },
  {
   "cell_type": "markdown",
   "metadata": {
    "collapsed": true
   },
   "source": [
    "## Total Execution Times"
   ]
  },
  {
   "cell_type": "code",
   "execution_count": 41,
   "metadata": {
    "collapsed": false
   },
   "outputs": [
    {
     "name": "stdout",
     "output_type": "stream",
     "text": [
      "Total Execution Times:\n",
      "Logistic Reg:  29.885751\n",
      "SVM:  449.109231\n",
      "Random Forest:  117.934505\n"
     ]
    }
   ],
   "source": [
    "lr_total_time = lr_time_train + lr_time_test\n",
    "svc_total_time = svc_time_train + svc_time_test\n",
    "rf_total_time = rf_time_train + rf_time_test\n",
    "print 'Total Execution Times:'\n",
    "print 'Logistic Reg: ', lr_total_time\n",
    "print 'SVM: ', svc_total_time\n",
    "print 'Random Forest: ', rf_total_time"
   ]
  }
 ],
 "metadata": {
  "kernelspec": {
   "display_name": "Python 2",
   "language": "python",
   "name": "python2"
  },
  "language_info": {
   "codemirror_mode": {
    "name": "ipython",
    "version": 2
   },
   "file_extension": ".py",
   "mimetype": "text/x-python",
   "name": "python",
   "nbconvert_exporter": "python",
   "pygments_lexer": "ipython2",
   "version": "2.7.12"
  }
 },
 "nbformat": 4,
 "nbformat_minor": 0
}
