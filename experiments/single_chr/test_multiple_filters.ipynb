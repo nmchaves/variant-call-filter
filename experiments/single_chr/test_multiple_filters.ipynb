{
 "cells": [
  {
   "cell_type": "markdown",
   "metadata": {},
   "source": [
    "# Training & Evaluation of Several Filters"
   ]
  },
  {
   "cell_type": "code",
   "execution_count": 1,
   "metadata": {
    "collapsed": false
   },
   "outputs": [
    {
     "name": "stderr",
     "output_type": "stream",
     "text": [
      "/Users/nicochaves/anaconda/lib/python2.7/site-packages/matplotlib/font_manager.py:273: UserWarning: Matplotlib is building the font cache using fc-list. This may take a moment.\n",
      "  warnings.warn('Matplotlib is building the font cache using fc-list. This may take a moment.')\n",
      "/Users/nicochaves/anaconda/lib/python2.7/site-packages/sklearn/cross_validation.py:44: DeprecationWarning: This module was deprecated in version 0.18 in favor of the model_selection module into which all the refactored classes and functions are moved. Also note that the interface of the new CV iterators are different from that of this module. This module will be removed in 0.20.\n",
      "  \"This module will be removed in 0.20.\", DeprecationWarning)\n",
      "/Users/nicochaves/anaconda/lib/python2.7/site-packages/sklearn/grid_search.py:43: DeprecationWarning: This module was deprecated in version 0.18 in favor of the model_selection module into which all the refactored classes and functions are moved. This module will be removed in 0.20.\n",
      "  DeprecationWarning)\n"
     ]
    }
   ],
   "source": [
    "%matplotlib inline\n",
    "import matplotlib.pyplot as plt\n",
    "import pandas as pd\n",
    "import numpy as np\n",
    "from sklearn import linear_model\n",
    "from sklearn.model_selection import train_test_split, StratifiedKFold\n",
    "from sklearn.metrics import roc_auc_score, roc_curve, auc, accuracy_score, f1_score\n",
    "from sklearn.grid_search import GridSearchCV\n",
    "from sklearn.svm import SVC, OneClassSVM\n",
    "from sklearn.ensemble import RandomForestClassifier\n",
    "import time\n",
    "from math import sqrt"
   ]
  },
  {
   "cell_type": "markdown",
   "metadata": {},
   "source": [
    "## Load Training and Test Data"
   ]
  },
  {
   "cell_type": "code",
   "execution_count": 3,
   "metadata": {
    "collapsed": false
   },
   "outputs": [],
   "source": [
    "file_dir = '../data/processed/chrom20/'\n",
    "filename = 'NA12878.LowSeq.illumina.bwa.sorted.dedup.20.sam.wFlag.qual.recalibrated.filtered.noNAN.scaled.withGndTruthLabels'\n",
    "train_file = file_dir + filename + '.train.table'\n",
    "test_file = file_dir + filename + '.test.table'\n",
    "\n",
    "df_train_full = pd.read_csv(train_file, sep='\\t') # training and dev sets combined\n",
    "df_test = pd.read_csv(test_file, sep='\\t')"
   ]
  },
  {
   "cell_type": "code",
   "execution_count": 4,
   "metadata": {
    "collapsed": false
   },
   "outputs": [
    {
     "name": "stdout",
     "output_type": "stream",
     "text": [
      "Features (some of these may get taken out):  Index([u'Unnamed: 0', u'QUAL', u'AC', u'AF', u'DP', u'FS', u'MLEAC', u'MLEAF',\n",
      "       u'MQ', u'QD', u'SOR', u'sample1.DP', u'sample1.GQ',\n",
      "       u'POSITIVE_TRAIN_SITE', u'DB', u'FILTER', u'GROUND_TRUTH'],\n",
      "      dtype='object')\n",
      "# training examples:  60790\n",
      "# test examples:  26053\n"
     ]
    }
   ],
   "source": [
    "print 'Features (some of these may get taken out): ', df_train_full.columns\n",
    "print '# training examples: ', df_train_full.shape[0]\n",
    "print '# test examples: ', df_test.shape[0]"
   ]
  },
  {
   "cell_type": "code",
   "execution_count": 5,
   "metadata": {
    "collapsed": false
   },
   "outputs": [],
   "source": [
    "df_train_full = df_train_full.drop('Unnamed: 0', axis=1)  \n",
    "df_test = df_test.drop('Unnamed: 0', axis=1)\n",
    "\n",
    "#df_train_full = df_train_full.drop(['Unnamed: 0', 'sample1.PL', 'sample1.AD', 'sample1.GT', 'REF', 'ALT', 'ID', 'CHROM', 'POS'], axis=1)"
   ]
  },
  {
   "cell_type": "markdown",
   "metadata": {},
   "source": [
    "## Split train into train and dev, and split into X and Y"
   ]
  },
  {
   "cell_type": "code",
   "execution_count": 6,
   "metadata": {
    "collapsed": true
   },
   "outputs": [],
   "source": [
    "num_train = df_train_full.shape[0]\n",
    "idx_train_dev = train_test_split(range(num_train), range(num_train), test_size = 0.3, random_state=0)\n",
    "idx_train = idx_train_dev[0]\n",
    "idx_dev = idx_train_dev[1]"
   ]
  },
  {
   "cell_type": "code",
   "execution_count": 7,
   "metadata": {
    "collapsed": true
   },
   "outputs": [],
   "source": [
    "df_train = df_train_full.loc[idx_train,:]\n",
    "df_dev = df_train_full.loc[idx_dev,:]\n",
    "\n",
    "df_train_Y = df_train['GROUND_TRUTH']\n",
    "df_train_X = df_train.drop(['GROUND_TRUTH'], axis=1)\n",
    "\n",
    "df_dev_Y = df_dev['GROUND_TRUTH']\n",
    "df_dev_X = df_dev.drop(['GROUND_TRUTH'], axis=1)\n",
    "\n",
    "df_test_Y = df_test['GROUND_TRUTH']\n",
    "df_test_X = df_test.drop(['GROUND_TRUTH'], axis=1)\n",
    "\n",
    "df_train_full_Y = df_train_full['GROUND_TRUTH']\n",
    "df_train_full_X = df_train_full.drop(['GROUND_TRUTH'], axis=1)"
   ]
  },
  {
   "cell_type": "code",
   "execution_count": 8,
   "metadata": {
    "collapsed": true
   },
   "outputs": [],
   "source": [
    "def sensitivity_specificity(labels, predictions):\n",
    "    fpr, tpr, thresholds = roc_curve(labels, predictions, pos_label=1)\n",
    "    return tpr[1], 1-fpr[1]"
   ]
  },
  {
   "cell_type": "markdown",
   "metadata": {},
   "source": [
    "# Evaluate VQSR Performance"
   ]
  },
  {
   "cell_type": "code",
   "execution_count": 9,
   "metadata": {
    "collapsed": false
   },
   "outputs": [],
   "source": [
    "# See https://software.broadinstitute.org/gatk/guide/article?id=39 for interpretation of tranche labels\n",
    "\n",
    "LOW_QUAL = 'LowQual'\n",
    "TRANCHE_99_9 = 'VQSRTrancheSNP99.90to100.00' # if you ignore these and the above, you recover at most 99.9% of all variants. has some low vqslod values\n",
    "TRANCHE_99 = 'VQSRTrancheSNP99.00to99.90' # if you retain these and ignore the above, you'll recover at most 99% of variants. \n",
    "PASS_ALL = 'PASS'  # if you **retain** these and ignore the above, you'll recover at most 90% of the variants\n",
    "\n",
    "def did_variant_pass_filter(label, tranche):\n",
    "    return label == PASS_ALL or \\\n",
    "            (tranche == TRANCHE_99 and label == TRANCHE_99) or \\\n",
    "            (tranche == TRANCHE_99_9 and (label == TRANCHE_99 or label == TRANCHE_99_9))\n",
    "            \n",
    "def convert_vqsr_labels(raw_labels, tranche=None):\n",
    "    num_labels = raw_labels.shape[0]\n",
    "    labels = num_labels * [0]\n",
    "    for i, label in enumerate(raw_labels):\n",
    "        if did_variant_pass_filter(label, tranche):\n",
    "            labels[i] = 1\n",
    "    return labels        "
   ]
  },
  {
   "cell_type": "code",
   "execution_count": 10,
   "metadata": {
    "collapsed": false
   },
   "outputs": [
    {
     "name": "stdout",
     "output_type": "stream",
     "text": [
      "Tranche:  VQSRTrancheSNP99.00to99.90\n",
      "VQSR Dev Accuracy:  0.925755332566\n",
      "VQSR Test Accuracy:  0.926495988946\n",
      "Sensitivity:  0.969851555678\n",
      "Specificity:  0.706800186306\n",
      "F1 score:  0.924222890917\n",
      "Tranche:  VQSRTrancheSNP99.90to100.00\n",
      "VQSR Dev Accuracy:  0.838405439491\n",
      "VQSR Test Accuracy:  0.838137642498\n",
      "Sensitivity:  0.985569189761\n",
      "Specificity:  0.0910572892408\n",
      "F1 score:  0.78619962665\n",
      "Tranche:  PASS\n",
      "VQSR Dev Accuracy:  0.917475461973\n",
      "VQSR Test Accuracy:  0.921275860745\n",
      "Sensitivity:  0.923709729307\n",
      "Specificity:  0.908942710759\n",
      "F1 score:  0.925161085262\n"
     ]
    }
   ],
   "source": [
    "vqsr_dev_labels = df_dev_X['FILTER']\n",
    "vqsr_test_labels = df_test_X['FILTER']\n",
    "vqsr_tranches_uniq = set(df_dev_X['FILTER'])\n",
    "\n",
    "if LOW_QUAL in vqsr_tranches_uniq:\n",
    "    vqsr_tranches_uniq -= {LOW_QUAL}\n",
    "\n",
    "vqsr_tranches_uniq = list(vqsr_tranches_uniq)    \n",
    "\n",
    "vqsr_sens = np.zeros(len(vqsr_tranches_uniq))\n",
    "vqsr_spec = np.zeros(len(vqsr_tranches_uniq))\n",
    "vqsr_f1 = np.zeros(len(vqsr_tranches_uniq))\n",
    "\n",
    "for i, tranche in enumerate(vqsr_tranches_uniq):\n",
    "    print 'Tranche: ', tranche\n",
    "    vqsr_dev_labels_binary = convert_vqsr_labels(vqsr_dev_labels, tranche)\n",
    "    vqsr_dev_acc = accuracy_score(df_dev_Y, vqsr_dev_labels_binary)\n",
    "    print 'VQSR Dev Accuracy: ', vqsr_dev_acc\n",
    "    vqsr_test_labels_binary = convert_vqsr_labels(vqsr_test_labels, tranche)\n",
    "    vqsr_test_acc = accuracy_score(df_test_Y, vqsr_test_labels_binary)\n",
    "    print 'VQSR Test Accuracy: ', vqsr_test_acc\n",
    "    \n",
    "    vqsr_sens[i], vqsr_spec[i] = sensitivity_specificity(df_test_Y, vqsr_test_labels_binary)\n",
    "    print 'Sensitivity: ', vqsr_sens[i]\n",
    "    print 'Specificity: ', vqsr_spec[i]\n",
    "    \n",
    "    \n",
    "    vqsr_f1[i] = f1_score(df_test_Y, vqsr_test_labels_binary, average='weighted')  \n",
    "    print 'F1 score: ', vqsr_f1[i]"
   ]
  },
  {
   "cell_type": "markdown",
   "metadata": {
    "collapsed": true
   },
   "source": [
    "### TODO: Consider using VQSLOD to obtain AUC Score. Issue is that sometimes the VQSLOD is NAN"
   ]
  },
  {
   "cell_type": "code",
   "execution_count": 12,
   "metadata": {
    "collapsed": false
   },
   "outputs": [
    {
     "data": {
      "text/plain": [
       "Index([u'Unnamed: 0', u'QUAL', u'AC', u'AF', u'DP', u'FS', u'MLEAC', u'MLEAF',\n",
       "       u'MQ', u'QD', u'SOR', u'sample1.DP', u'sample1.GQ',\n",
       "       u'POSITIVE_TRAIN_SITE', u'DB', u'FILTER', u'GROUND_TRUTH'],\n",
       "      dtype='object')"
      ]
     },
     "execution_count": 12,
     "metadata": {},
     "output_type": "execute_result"
    }
   ],
   "source": [
    "## Verify that the VQSR tranches worked as expected\n",
    "file_dir = '../data/processed/chrom20/'\n",
    "df2 = pd.read_csv(file_dir + filename + '.table', sep='\\t') # training and dev sets combined\n",
    "df2.columns"
   ]
  },
  {
   "cell_type": "code",
   "execution_count": 13,
   "metadata": {
    "collapsed": false
   },
   "outputs": [
    {
     "name": "stdout",
     "output_type": "stream",
     "text": [
      "# of positive training sites used by VQSR:  65506\n"
     ]
    }
   ],
   "source": [
    "df2_pos = df2[df2['POSITIVE_TRAIN_SITE'] == 1]['FILTER']\n",
    "num_pos_training_sites = df2_pos.shape[0]\n",
    "print '# of positive training sites used by VQSR: ', num_pos_training_sites"
   ]
  },
  {
   "cell_type": "code",
   "execution_count": 14,
   "metadata": {
    "collapsed": false
   },
   "outputs": [
    {
     "name": "stdout",
     "output_type": "stream",
     "text": [
      "# PASS:  63459  or  96.8750954111 %\n",
      "# VQSRTrancheSNP99.00to99.90:  1904  or  2.90660397521 %\n",
      "# VQSRTrancheSNP99.90to100.0:  143  or  0.218300613684 %\n",
      "# LowQual:  0\n"
     ]
    }
   ],
   "source": [
    "numPass = df2_pos[df2_pos == 'PASS'].shape[0]\n",
    "num99 = df2_pos[df2_pos == 'VQSRTrancheSNP99.00to99.90'].shape[0]\n",
    "num99_9 = df2_pos[df2_pos == 'VQSRTrancheSNP99.90to100.00'].shape[0]\n",
    "numLowQual = df2_pos[df2_pos == 'LowQual'].shape[0]\n",
    "\n",
    "print '# PASS: ', numPass, ' or ', 100.0*numPass/num_pos_training_sites, '%'\n",
    "print '# VQSRTrancheSNP99.00to99.90: ', num99, ' or ', 100.0*num99/num_pos_training_sites, '%'\n",
    "print '# VQSRTrancheSNP99.90to100.0: ', num99_9, ' or ', 100.0*num99_9/num_pos_training_sites, '%'\n",
    "print '# LowQual: ', numLowQual"
   ]
  },
  {
   "cell_type": "code",
   "execution_count": 15,
   "metadata": {
    "collapsed": false
   },
   "outputs": [
    {
     "data": {
      "text/plain": [
       "99.78169938631001"
      ]
     },
     "execution_count": 15,
     "metadata": {},
     "output_type": "execute_result"
    }
   ],
   "source": [
    "96.8750954111+ 2.90660397521"
   ]
  },
  {
   "cell_type": "markdown",
   "metadata": {},
   "source": [
    "### It appears that VQSR rounds the VQSLOD thresholds because these sensitivities are not extremely close to the advertised levels. "
   ]
  },
  {
   "cell_type": "markdown",
   "metadata": {},
   "source": [
    "## Remove VQSR Filter label so that we can run non-VQSR methods"
   ]
  },
  {
   "cell_type": "code",
   "execution_count": 16,
   "metadata": {
    "collapsed": false
   },
   "outputs": [],
   "source": [
    "df_train_X = df_train_X.drop(['FILTER'], axis=1)\n",
    "df_dev_X = df_dev_X.drop(['FILTER'], axis=1)\n",
    "df_train_full_X = df_train_full_X.drop(['FILTER'], axis=1)\n",
    "df_test_X = df_test_X.drop(['FILTER'], axis=1)"
   ]
  },
  {
   "cell_type": "markdown",
   "metadata": {},
   "source": [
    "# One Class SVM for outlier detection. Still needs work"
   ]
  },
  {
   "cell_type": "code",
   "execution_count": 113,
   "metadata": {
    "collapsed": false
   },
   "outputs": [
    {
     "name": "stdout",
     "output_type": "stream",
     "text": [
      "[ 1.  1.  1.  1.  1.  1.  1.  1.  1.  1.]\n"
     ]
    }
   ],
   "source": [
    "X_train = df_train_X.values\n",
    "X_dev = df_dev_X.values\n",
    "\n",
    "clf_one_class_svm = svm.OneClassSVM(nu=0.1, kernel=\"rbf\", gamma=0.1)\n",
    "clf_one_class_svm.fit(X_train)\n",
    "\n",
    "y_pred_train = clf_one_class_svm.predict(X_train)\n",
    "y_pred_dev = clf_one_class_svm.predict(X_dev)\n",
    "\n",
    "print y_pred_dev[0:10]"
   ]
  },
  {
   "cell_type": "markdown",
   "metadata": {},
   "source": [
    "# Supervised Learning Approaches"
   ]
  },
  {
   "cell_type": "code",
   "execution_count": 17,
   "metadata": {
    "collapsed": true
   },
   "outputs": [],
   "source": [
    "# Number of folds for cross validation\n",
    "num_folds = 10"
   ]
  },
  {
   "cell_type": "markdown",
   "metadata": {
    "collapsed": true
   },
   "source": [
    "## Logistic Regression"
   ]
  },
  {
   "cell_type": "code",
   "execution_count": 18,
   "metadata": {
    "collapsed": false
   },
   "outputs": [
    {
     "name": "stdout",
     "output_type": "stream",
     "text": [
      "Logistic Regression CV Time (in seconds):  58.730262\n"
     ]
    }
   ],
   "source": [
    "lr_start = time.clock()\n",
    "\n",
    "loss_function = 'l2'  # Loss function to use. Must be either 'l1' or 'l2'\n",
    "lr_params = {'C':np.logspace(-3, 3, 20)}\n",
    "lr_obj = linear_model.LogisticRegression(penalty=loss_function, random_state=0)\n",
    "\n",
    "# Note: GridSearchCV will automatically use Stratified k-fold CV if the labels are binary and \n",
    "# the 'cv' parameter is an int\n",
    "lr_classifier = GridSearchCV(lr_obj, lr_params, cv=num_folds)\n",
    "lr_classifier.fit(df_train_X, df_train_Y)\n",
    "\n",
    "lr_stop = time.clock()\n",
    "lr_time_train = lr_stop - lr_start\n",
    "\n",
    "print 'Logistic Regression CV Time (in seconds): ', lr_time_train"
   ]
  },
  {
   "cell_type": "code",
   "execution_count": 19,
   "metadata": {
    "collapsed": false
   },
   "outputs": [
    {
     "name": "stdout",
     "output_type": "stream",
     "text": [
      "Logistic Regression Best Score:  0.956877305948\n",
      "Logistic Regression Best Estimator:  LogisticRegression(C=54.555947811685144, class_weight=None, dual=False,\n",
      "          fit_intercept=True, intercept_scaling=1, max_iter=100,\n",
      "          multi_class='ovr', n_jobs=1, penalty='l2', random_state=0,\n",
      "          solver='liblinear', tol=0.0001, verbose=0, warm_start=False)\n",
      "Logistic Regression Score on Dev Set:  0.956407303833\n"
     ]
    }
   ],
   "source": [
    "lr_best_est = lr_classifier.best_estimator_\n",
    "print 'Logistic Regression Best Score: ', lr_classifier.best_score_\n",
    "print 'Logistic Regression Best Estimator: ', lr_best_est\n",
    "lr_dev_score = lr_classifier.score(df_dev_X, df_dev_Y)\n",
    "print 'Logistic Regression Score on Dev Set: ', lr_dev_score"
   ]
  },
  {
   "cell_type": "code",
   "execution_count": null,
   "metadata": {
    "collapsed": false,
    "scrolled": true
   },
   "outputs": [],
   "source": [
    "\"\"\"\n",
    "lr_pred_test = lr_cv_L2.predict(df_test_X)\n",
    "#conf_lr_cv = lr_cv.decision_function(x_te)\n",
    "lr_prob_scores_test = lr_cv_L2.predict_proba(df_test_X)\n",
    "lr_prob_of_pos_test = lr_prob_scores_test[:, 1]\n",
    "\n",
    "lr_auc_test = roc_auc_score(df_test_Y, lr_prob_of_pos_test)\n",
    "lr_acc_test = accuracy_score(df_test_Y, lr_pred_test)\n",
    "print 'AUC: ', lr_auc_test\n",
    "print 'Accuracy: ', lr_acc_test\n",
    "\"\"\""
   ]
  },
  {
   "cell_type": "markdown",
   "metadata": {},
   "source": [
    "## Support Vector Classifier. Train using 10-fold stratified CV with grid search for hyperparameter selection. "
   ]
  },
  {
   "cell_type": "code",
   "execution_count": 20,
   "metadata": {
    "collapsed": false
   },
   "outputs": [
    {
     "name": "stdout",
     "output_type": "stream",
     "text": [
      "SVC CV Time (in seconds):  1520.217525\n"
     ]
    }
   ],
   "source": [
    "svc_start = time.clock()\n",
    "\n",
    "svc_params = {'C':np.logspace(0, 3, 5), 'gamma':[0.05, 0.1]}\n",
    "svc_obj = SVC(kernel='rbf', random_state=0)\n",
    "\n",
    "# Note: GridSearchCV will automatically use Stratified k-fold CV if the labels are binary and \n",
    "# the 'cv' parameter is an int\n",
    "svc_classifier = GridSearchCV(svc_obj, svc_params, cv=num_folds)\n",
    "svc_classifier.fit(df_train_X, df_train_Y)\n",
    "\n",
    "svc_stop = time.clock()\n",
    "svc_time_train = svc_stop - svc_start\n",
    "\n",
    "print 'SVC CV Time (in seconds): ', svc_time_train"
   ]
  },
  {
   "cell_type": "code",
   "execution_count": 21,
   "metadata": {
    "collapsed": false
   },
   "outputs": [
    {
     "name": "stdout",
     "output_type": "stream",
     "text": [
      "SVC Best Score:  0.961741827838\n",
      "SVC Best Estimator:  SVC(C=1000.0, cache_size=200, class_weight=None, coef0=0.0,\n",
      "  decision_function_shape=None, degree=3, gamma=0.1, kernel='rbf',\n",
      "  max_iter=-1, probability=False, random_state=0, shrinking=True,\n",
      "  tol=0.001, verbose=False)\n",
      "SVC Score on Dev Set:  0.960300488019\n"
     ]
    }
   ],
   "source": [
    "svc_best_est = svc_classifier.best_estimator_\n",
    "print 'SVC Best Score: ', svc_classifier.best_score_\n",
    "print 'SVC Best Estimator: ', svc_best_est\n",
    "svc_dev_score = svc_classifier.score(df_dev_X, df_dev_Y)\n",
    "print 'SVC Score on Dev Set: ', svc_dev_score"
   ]
  },
  {
   "cell_type": "markdown",
   "metadata": {},
   "source": [
    "## Random Forest Classifier. Train using 10-fold stratified CV with grid search for hyperparameter selection. "
   ]
  },
  {
   "cell_type": "code",
   "execution_count": 22,
   "metadata": {
    "collapsed": false
   },
   "outputs": [
    {
     "name": "stdout",
     "output_type": "stream",
     "text": [
      "Random Forest CV Time (in seconds):  289.799895\n"
     ]
    }
   ],
   "source": [
    "num_features = df_train_X.shape[1]\n",
    "\n",
    "rf_start = time.clock()\n",
    "\n",
    "# Use 20 trees in the forest (if you have the time or resources, consider using more trees)\n",
    "# However, I've tried up to 50 trees and it makes very little difference on dev set error\n",
    "rf_params = {\"n_estimators\":[20], \n",
    "             \"criterion\": [\"gini\", \"entropy\"], \n",
    "             \"max_features\": range(int(sqrt(num_features)),num_features, 2)\n",
    "            }\n",
    "rf_obj = RandomForestClassifier(random_state=0)\n",
    "\n",
    "rf_classifier = GridSearchCV(rf_obj, rf_params, cv=num_folds)\n",
    "rf_classifier.fit(df_train_X, df_train_Y)\n",
    "\n",
    "rf_stop = time.clock()\n",
    "rf_time_train = rf_stop - rf_start\n",
    "\n",
    "print 'Random Forest CV Time (in seconds): ', rf_time_train"
   ]
  },
  {
   "cell_type": "code",
   "execution_count": 23,
   "metadata": {
    "collapsed": false
   },
   "outputs": [
    {
     "name": "stdout",
     "output_type": "stream",
     "text": [
      "Rand Forest Best Score:  0.963551335981\n",
      "Rand Forest Best Estimator:  RandomForestClassifier(bootstrap=True, class_weight=None, criterion='gini',\n",
      "            max_depth=None, max_features=3, max_leaf_nodes=None,\n",
      "            min_impurity_split=1e-07, min_samples_leaf=1,\n",
      "            min_samples_split=2, min_weight_fraction_leaf=0.0,\n",
      "            n_estimators=20, n_jobs=1, oob_score=False, random_state=0,\n",
      "            verbose=0, warm_start=False)\n",
      "Rand Forest Score on Dev Set:  0.964303339365\n"
     ]
    }
   ],
   "source": [
    "rf_best_est = rf_classifier.best_estimator_\n",
    "print 'Rand Forest Best Score: ', rf_classifier.best_score_\n",
    "print 'Rand Forest Best Estimator: ', rf_best_est\n",
    "rf_dev_score = rf_classifier.score(df_dev_X, df_dev_Y)\n",
    "print 'Rand Forest Score on Dev Set: ', rf_dev_score"
   ]
  },
  {
   "cell_type": "markdown",
   "metadata": {},
   "source": [
    "# Evaluate classifiers on test set. First, we need to retrain classifiers on full dataset using optimal parameters that we found above using cross validation"
   ]
  },
  {
   "cell_type": "markdown",
   "metadata": {},
   "source": [
    "## Logistic Regression"
   ]
  },
  {
   "cell_type": "code",
   "execution_count": 58,
   "metadata": {
    "collapsed": false
   },
   "outputs": [
    {
     "name": "stdout",
     "output_type": "stream",
     "text": [
      "Execution Time (in seconds):  0.377326\n",
      "Logistic Regression Test Score:  0.957778374851\n"
     ]
    }
   ],
   "source": [
    "lr_start = time.clock()\n",
    "\n",
    "lr_classifier_full = linear_model.LogisticRegression(penalty=loss_function, C=lr_best_est.C)\n",
    "lr_classifier_full.fit(df_train_full_X, df_train_full_Y) \n",
    "lr_pred_test = lr_classifier_full.predict(df_test_X)\n",
    "\n",
    "lr_stop = time.clock()\n",
    "lr_time_test = lr_stop - lr_start\n",
    "print 'Execution Time (in seconds): ', lr_time_test\n",
    "\n",
    "lr_score_test = lr_classifier_full.score(df_test_X, df_test_Y)\n",
    "print 'Logistic Regression Test Score: ', lr_score_test"
   ]
  },
  {
   "cell_type": "code",
   "execution_count": 57,
   "metadata": {
    "collapsed": false
   },
   "outputs": [
    {
     "name": "stdout",
     "output_type": "stream",
     "text": [
      "Sensitivity:  0.978721448596\n",
      "Specificity:  0.851653469958\n",
      "F1 score:  0.957425879234\n"
     ]
    }
   ],
   "source": [
    "lr_sens, lr_spec = sensitivity_specificity(df_test_Y, lr_pred_test)\n",
    "print 'Sensitivity: ', lr_sens\n",
    "print 'Specificity: ', lr_spec\n",
    "lr_f1 = f1_score(df_test_Y, lr_pred_test, average='weighted')  \n",
    "print 'F1 score: ', lr_f1"
   ]
  },
  {
   "cell_type": "markdown",
   "metadata": {},
   "source": [
    "## SVC"
   ]
  },
  {
   "cell_type": "code",
   "execution_count": 50,
   "metadata": {
    "collapsed": false
   },
   "outputs": [
    {
     "name": "stdout",
     "output_type": "stream",
     "text": [
      "Execution Time (in seconds):  35.103817\n",
      "SVC Test Score:  0.959735922926\n"
     ]
    }
   ],
   "source": [
    "svc_start = time.clock()\n",
    "\n",
    "svc_classifier_full = SVC(kernel='rbf', gamma=svc_best_est.gamma)\n",
    "svc_classifier_full.fit(df_train_full_X, df_train_full_Y) \n",
    "svc_pred_test = svc_classifier_full.predict(df_test_X)\n",
    "\n",
    "svc_stop = time.clock()\n",
    "svc_time_test = svc_stop - svc_start\n",
    "print 'Execution Time (in seconds): ', svc_time_test\n",
    "\n",
    "svc_score_test = svc_classifier_full.score(df_test_X, df_test_Y)\n",
    "print 'SVC Test Score: ', svc_score_test"
   ]
  },
  {
   "cell_type": "code",
   "execution_count": 51,
   "metadata": {
    "collapsed": false
   },
   "outputs": [
    {
     "name": "stdout",
     "output_type": "stream",
     "text": [
      "Sensitivity:  0.981203180293\n",
      "Specificity:  0.85095482068\n",
      "F1 score:  0.959285742814\n"
     ]
    }
   ],
   "source": [
    "svc_sens, svc_spec = sensitivity_specificity(df_test_Y, svc_pred_test)\n",
    "print 'Sensitivity: ', svc_sens\n",
    "print 'Specificity: ', svc_spec\n",
    "svc_f1 = f1_score(df_test_Y, svc_pred_test, average='weighted')  \n",
    "print 'F1 score: ', svc_f1"
   ]
  },
  {
   "cell_type": "markdown",
   "metadata": {},
   "source": [
    "## Random Forest"
   ]
  },
  {
   "cell_type": "code",
   "execution_count": 66,
   "metadata": {
    "collapsed": false
   },
   "outputs": [
    {
     "name": "stdout",
     "output_type": "stream",
     "text": [
      "Execution Time (in seconds):  1.566948\n",
      "Random Forest Test Score:  0.965109584309\n"
     ]
    }
   ],
   "source": [
    "rf_start = time.clock()\n",
    "\n",
    "rf_model_full = RandomForestClassifier(n_estimators=rf_best_est.n_estimators, criterion=rf_best_est.criterion)\n",
    "rf_model_full.fit(df_train_full_X, df_train_full_Y)\n",
    "rf_pred_test = rf_model_full.predict(df_test_X)\n",
    "\n",
    "rf_stop = time.clock()\n",
    "rf_time_test = rf_stop - rf_start\n",
    "print 'Execution Time (in seconds): ', rf_time_test\n",
    "\n",
    "rf_score_test = rf_model_full.score(df_test_X, df_test_Y)\n",
    "print 'Random Forest Test Score: ', rf_score_test"
   ]
  },
  {
   "cell_type": "code",
   "execution_count": 67,
   "metadata": {
    "collapsed": false
   },
   "outputs": [
    {
     "name": "stdout",
     "output_type": "stream",
     "text": [
      "Sensitivity:  0.982903626086\n",
      "Specificity:  0.874941779227\n",
      "F1 score:  0.964833740562\n"
     ]
    }
   ],
   "source": [
    "rf_sens, rf_spec = sensitivity_specificity(df_test_Y, rf_pred_test)\n",
    "print 'Sensitivity: ', rf_sens\n",
    "print 'Specificity: ', rf_spec\n",
    "rf_f1 = f1_score(df_test_Y, rf_pred_test, average='weighted')  \n",
    "print 'F1 score: ', rf_f1"
   ]
  },
  {
   "cell_type": "markdown",
   "metadata": {},
   "source": [
    "# Plot the Results"
   ]
  },
  {
   "cell_type": "code",
   "execution_count": 52,
   "metadata": {
    "collapsed": false
   },
   "outputs": [],
   "source": [
    "methods = ['VQSR (99%)', 'VQSR (99.9%)', 'Logisitc Reg', 'SVM', 'Rand Forest']\n",
    "colors = ['c', 'b', 'r', 'purple', 'g']\n",
    "vqsr_tranche_idx_99 = vqsr_tranches_uniq.index(PASS_ALL)\n",
    "vqsr_tranche_idx_99_9 = vqsr_tranches_uniq.index(TRANCHE_99)\n",
    "\n",
    "font = {'family' : 'normal',\n",
    "        'weight' : 'normal',\n",
    "        'size'   : 14}\n",
    "\n",
    "plt.rc('font', **font)"
   ]
  },
  {
   "cell_type": "markdown",
   "metadata": {},
   "source": [
    "## Plot Sensitivity"
   ]
  },
  {
   "cell_type": "code",
   "execution_count": 68,
   "metadata": {
    "collapsed": false
   },
   "outputs": [
    {
     "data": {
      "text/plain": [
       "<matplotlib.figure.Figure at 0x11548af90>"
      ]
     },
     "metadata": {},
     "output_type": "display_data"
    },
    {
     "data": {
      "image/png": "[encoded data removed]",
      "text/plain": [
       "<matplotlib.figure.Figure at 0x119d6a9d0>"
      ]
     },
     "metadata": {},
     "output_type": "display_data"
    }
   ],
   "source": [
    "plt.figure()\n",
    "\n",
    "sensitivities = [vqsr_sens[vqsr_tranche_idx_99], vqsr_sens[vqsr_tranche_idx_99_9], lr_sens, svc_sens, rf_sens]\n",
    "ind = np.arange(len(methods))  # the x locations for the groups\n",
    "width = 0.35       # the width of the bars\n",
    "\n",
    "fig, ax = plt.subplots()\n",
    "rects = ax.bar(ind, sensitivities, width)\n",
    "for i,c in enumerate(colors):\n",
    "    rects[i].set_color(c)\n",
    "\n",
    "ax.set_xticks(ind + width/2)\n",
    "ax.set_xticklabels((methods), rotation=-30)\n",
    "\n",
    "plt.ylim([0.9, 1.0])\n",
    "plt.ylabel('Sensitivity', fontsize=24)\n",
    "plt.show()\n"
   ]
  },
  {
   "cell_type": "markdown",
   "metadata": {},
   "source": [
    "## Plot Specificity"
   ]
  },
  {
   "cell_type": "code",
   "execution_count": 69,
   "metadata": {
    "collapsed": false
   },
   "outputs": [
    {
     "data": {
      "text/plain": [
       "<matplotlib.figure.Figure at 0x118e95d10>"
      ]
     },
     "metadata": {},
     "output_type": "display_data"
    },
    {
     "data": {
      "image/png": "[encoded data removed]",
      "text/plain": [
       "<matplotlib.figure.Figure at 0x11cc83bd0>"
      ]
     },
     "metadata": {},
     "output_type": "display_data"
    }
   ],
   "source": [
    "plt.figure()\n",
    "\n",
    "specificities = [vqsr_spec[vqsr_tranche_idx_99], vqsr_spec[vqsr_tranche_idx_99_9], lr_spec, svc_spec, rf_spec]\n",
    "ind = np.arange(len(methods))  # the x locations for the groups\n",
    "width = 0.35       # the width of the bars\n",
    "\n",
    "fig, ax = plt.subplots()\n",
    "rects = ax.bar(ind, specificities, width)\n",
    "for i,c in enumerate(colors):\n",
    "    rects[i].set_color(c)\n",
    "\n",
    "ax.set_xticks(ind + width/2)\n",
    "ax.set_xticklabels((methods), rotation=-30)\n",
    "\n",
    "plt.ylim([0.6, 1.05])\n",
    "plt.ylabel('Specificity', fontsize=24)\n",
    "plt.show()"
   ]
  },
  {
   "cell_type": "markdown",
   "metadata": {
    "collapsed": true
   },
   "source": [
    "## Total Execution Times"
   ]
  },
  {
   "cell_type": "code",
   "execution_count": 70,
   "metadata": {
    "collapsed": false
   },
   "outputs": [
    {
     "name": "stdout",
     "output_type": "stream",
     "text": [
      "Total Execution Times:\n",
      "Logistic Reg:  94.654422\n",
      "SVM:  1421.724994\n",
      "Random Forest:  227.415505\n"
     ]
    }
   ],
   "source": [
    "lr_total_time = lr_time_train + lr_time_test\n",
    "svc_total_time = svc_time_train + svc_time_test\n",
    "rf_total_time = rf_time_train + rf_time_test\n",
    "print 'Total Execution Times:'\n",
    "print 'Logistic Reg: ', lr_total_time\n",
    "print 'SVM: ', svc_total_time\n",
    "print 'Random Forest: ', rf_total_time"
   ]
  },
  {
   "cell_type": "code",
   "execution_count": null,
   "metadata": {
    "collapsed": true
   },
   "outputs": [],
   "source": []
  }
 ],
 "metadata": {
  "kernelspec": {
   "display_name": "Python 2",
   "language": "python",
   "name": "python2"
  },
  "language_info": {
   "codemirror_mode": {
    "name": "ipython",
    "version": 2
   },
   "file_extension": ".py",
   "mimetype": "text/x-python",
   "name": "python",
   "nbconvert_exporter": "python",
   "pygments_lexer": "ipython2",
   "version": "2.7.12"
  }
 },
 "nbformat": 4,
 "nbformat_minor": 0
}
