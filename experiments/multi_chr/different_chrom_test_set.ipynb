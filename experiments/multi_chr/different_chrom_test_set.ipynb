{
 "cells": [
  {
   "cell_type": "markdown",
   "metadata": {},
   "source": [
    "# Evaluate performance when training on one chromosome (e.g. chr 11) and testing on a different chromosome (e.g. chr 20)"
   ]
  },
  {
   "cell_type": "code",
   "execution_count": 19,
   "metadata": {
    "collapsed": false
   },
   "outputs": [],
   "source": [
    "%matplotlib inline\n",
    "import matplotlib.pyplot as plt\n",
    "import pandas as pd\n",
    "import numpy as np\n",
    "from sklearn import linear_model\n",
    "from sklearn.model_selection import train_test_split, StratifiedKFold\n",
    "from sklearn.metrics import precision_score, recall_score, accuracy_score, f1_score\n",
    "from sklearn.grid_search import GridSearchCV\n",
    "from sklearn.svm import SVC, OneClassSVM\n",
    "from sklearn.ensemble import RandomForestClassifier\n",
    "import time\n",
    "from math import sqrt\n",
    "from sklearn.externals import joblib\n",
    "from os.path import join"
   ]
  },
  {
   "cell_type": "markdown",
   "metadata": {},
   "source": [
    "### Set Relevant Paths"
   ]
  },
  {
   "cell_type": "code",
   "execution_count": 20,
   "metadata": {
    "collapsed": true
   },
   "outputs": [],
   "source": [
    "data_dir = '../../data'\n",
    "saved_models_dir = 'saved_models'"
   ]
  },
  {
   "cell_type": "markdown",
   "metadata": {},
   "source": [
    "## Load Training Data (Chromosome 11)"
   ]
  },
  {
   "cell_type": "code",
   "execution_count": 21,
   "metadata": {
    "collapsed": false
   },
   "outputs": [],
   "source": [
    "train_dir = join(data_dir,'processed/chrom11')\n",
    "train_file = 'NA12878.LowSeq.illumina.bwa.sorted.dedup.11.sam.wFlag.qual.recalibrated.filtered.noNAN.scaled.withGndTruthLabels.table'\n",
    "df_train_full = pd.read_csv(join(train_dir, train_file), sep='\\t')"
   ]
  },
  {
   "cell_type": "markdown",
   "metadata": {},
   "source": [
    "## Load Test Data (Chromosome 20)"
   ]
  },
  {
   "cell_type": "code",
   "execution_count": 23,
   "metadata": {
    "collapsed": false
   },
   "outputs": [],
   "source": [
    "# Load the test data (Chrom 20)\n",
    "test_dir = join(data_dir, 'processed/chrom20')\n",
    "test_file = 'NA12878.LowSeq.illumina.bwa.sorted.dedup.20.sam.wFlag.qual.recalibrated.filtered.noNAN.scaled.withGndTruthLabels.table'\n",
    "df_test = pd.read_csv(join(test_dir, test_file), sep='\\t')"
   ]
  },
  {
   "cell_type": "code",
   "execution_count": 24,
   "metadata": {
    "collapsed": false
   },
   "outputs": [
    {
     "name": "stdout",
     "output_type": "stream",
     "text": [
      "Features (some of these may get taken out):  Index([u'Unnamed: 0', u'QUAL', u'AC', u'AF', u'DP', u'FS', u'MLEAC', u'MLEAF',\n",
      "       u'MQ', u'QD', u'SOR', u'sample1.DP', u'sample1.GQ',\n",
      "       u'POSITIVE_TRAIN_SITE', u'DB', u'FILTER', u'GROUND_TRUTH'],\n",
      "      dtype='object')\n",
      "# training examples:  187242\n",
      "# test examples:  86843\n"
     ]
    }
   ],
   "source": [
    "print 'Features (some of these may get taken out): ', df_train_full.columns\n",
    "print '# training examples: ', df_train_full.shape[0]\n",
    "print '# test examples: ', df_test.shape[0]"
   ]
  },
  {
   "cell_type": "code",
   "execution_count": 25,
   "metadata": {
    "collapsed": false
   },
   "outputs": [],
   "source": [
    "df_train_full = df_train_full.drop('Unnamed: 0', axis=1)  \n",
    "df_test = df_test.drop('Unnamed: 0', axis=1)"
   ]
  },
  {
   "cell_type": "markdown",
   "metadata": {},
   "source": [
    "## Split training data into train and test"
   ]
  },
  {
   "cell_type": "code",
   "execution_count": 26,
   "metadata": {
    "collapsed": false
   },
   "outputs": [],
   "source": [
    "num_train = df_train_full.shape[0]\n",
    "idx_train_dev = train_test_split(range(num_train), range(num_train), test_size = 0.3, random_state=0)\n",
    "idx_train = idx_train_dev[0]\n",
    "idx_dev = idx_train_dev[1]"
   ]
  },
  {
   "cell_type": "code",
   "execution_count": 27,
   "metadata": {
    "collapsed": true
   },
   "outputs": [],
   "source": [
    "df_train = df_train_full.loc[idx_train,:]\n",
    "df_dev = df_train_full.loc[idx_dev,:]\n",
    "\n",
    "df_train_Y = df_train['GROUND_TRUTH']\n",
    "df_train_X = df_train.drop(['GROUND_TRUTH'], axis=1)\n",
    "\n",
    "df_dev_Y = df_dev['GROUND_TRUTH']\n",
    "df_dev_X = df_dev.drop(['GROUND_TRUTH'], axis=1)\n",
    "\n",
    "df_test_Y = df_test['GROUND_TRUTH']\n",
    "df_test_X = df_test.drop(['GROUND_TRUTH'], axis=1)\n",
    "\n",
    "df_train_full_Y = df_train_full['GROUND_TRUTH']\n",
    "df_train_full_X = df_train_full.drop(['GROUND_TRUTH'], axis=1)"
   ]
  },
  {
   "cell_type": "markdown",
   "metadata": {},
   "source": [
    "# Evaluate VQSR Performance"
   ]
  },
  {
   "cell_type": "code",
   "execution_count": 28,
   "metadata": {
    "collapsed": false
   },
   "outputs": [],
   "source": [
    "# See https://software.broadinstitute.org/gatk/guide/article?id=39 for interpretation of tranche labels\n",
    "\n",
    "LOW_QUAL = 'LowQual'\n",
    "TRANCHE_99_9 = 'VQSRTrancheSNP99.90to100.00' # if you ignore these and the above, you recover at most 99.9% of all variants. has some low vqslod values\n",
    "TRANCHE_99 = 'VQSRTrancheSNP99.00to99.90' # if you retain these and ignore the above, you'll recover at most 99% of variants. \n",
    "PASS_ALL = 'PASS'  # if you **retain** these and ignore the above, you'll recover at most 90% of the variants\n",
    "\n",
    "def did_variant_pass_filter(label, tranche):\n",
    "    return label == PASS_ALL or \\\n",
    "            (tranche == TRANCHE_99 and label == TRANCHE_99) or \\\n",
    "            (tranche == TRANCHE_99_9 and (label == TRANCHE_99 or label == TRANCHE_99_9))\n",
    "            \n",
    "def convert_vqsr_labels(raw_labels, tranche=None):\n",
    "    num_labels = raw_labels.shape[0]\n",
    "    labels = num_labels * [0]\n",
    "    for i, label in enumerate(raw_labels):\n",
    "        if did_variant_pass_filter(label, tranche):\n",
    "            labels[i] = 1\n",
    "    return labels        "
   ]
  },
  {
   "cell_type": "code",
   "execution_count": 29,
   "metadata": {
    "collapsed": false
   },
   "outputs": [
    {
     "name": "stdout",
     "output_type": "stream",
     "text": [
      "Tranche:  VQSRTrancheSNP99.00to99.90\n",
      "VQSR Dev Accuracy:  0.922898901608\n",
      "VQSR Test Accuracy:  0.925348041869\n",
      "Precision:  0.943029049544\n",
      "Recall:  0.96907173811\n",
      "F1 score:  0.923066278292\n",
      "Tranche:  VQSRTrancheSNP99.90to100.00\n",
      "VQSR Dev Accuracy:  0.929467893828\n",
      "VQSR Test Accuracy:  0.837304100503\n",
      "Precision:  0.845056258208\n",
      "Recall:  0.98574346518\n",
      "F1 score:  0.784819378897\n",
      "Tranche:  PASS\n",
      "VQSR Dev Accuracy:  0.886475708971\n",
      "VQSR Test Accuracy:  0.919463860069\n",
      "Precision:  0.980068053152\n",
      "Recall:  0.922230809572\n",
      "F1 score:  0.923450057531\n"
     ]
    }
   ],
   "source": [
    "vqsr_dev_labels = df_dev_X['FILTER']\n",
    "vqsr_test_labels = df_test_X['FILTER']\n",
    "vqsr_tranches_uniq = set(df_dev_X['FILTER'])\n",
    "\n",
    "if LOW_QUAL in vqsr_tranches_uniq:\n",
    "    vqsr_tranches_uniq -= {LOW_QUAL}\n",
    "\n",
    "vqsr_tranches_uniq = list(vqsr_tranches_uniq)    \n",
    "\n",
    "vqsr_prec = np.zeros(len(vqsr_tranches_uniq))\n",
    "vqsr_recall = np.zeros(len(vqsr_tranches_uniq))\n",
    "vqsr_f1 = np.zeros(len(vqsr_tranches_uniq))\n",
    "\n",
    "for i, tranche in enumerate(vqsr_tranches_uniq):\n",
    "    print 'Tranche: ', tranche\n",
    "    vqsr_dev_labels_binary = convert_vqsr_labels(vqsr_dev_labels, tranche)\n",
    "    vqsr_dev_acc = accuracy_score(df_dev_Y, vqsr_dev_labels_binary)\n",
    "    print 'VQSR Dev Accuracy: ', vqsr_dev_acc\n",
    "    vqsr_test_labels_binary = convert_vqsr_labels(vqsr_test_labels, tranche)\n",
    "    vqsr_test_acc = accuracy_score(df_test_Y, vqsr_test_labels_binary)\n",
    "    print 'VQSR Test Accuracy: ', vqsr_test_acc\n",
    "    \n",
    "    vqsr_prec[i] = precision_score(df_test_Y, vqsr_test_labels_binary)\n",
    "    vqsr_recall[i] = recall_score(df_test_Y, vqsr_test_labels_binary)\n",
    "    print 'Precision: ', vqsr_prec[i]\n",
    "    print 'Recall: ', vqsr_recall[i]\n",
    "    \n",
    "    \n",
    "    vqsr_f1[i] = f1_score(df_test_Y, vqsr_test_labels_binary, average='weighted')  \n",
    "    print 'F1 score: ', vqsr_f1[i]"
   ]
  },
  {
   "cell_type": "markdown",
   "metadata": {},
   "source": [
    "## Remove VQSR Filter label so that we can run non-VQSR methods"
   ]
  },
  {
   "cell_type": "code",
   "execution_count": 30,
   "metadata": {
    "collapsed": false
   },
   "outputs": [],
   "source": [
    "df_train_X = df_train_X.drop(['FILTER'], axis=1)\n",
    "df_dev_X = df_dev_X.drop(['FILTER'], axis=1)\n",
    "df_train_full_X = df_train_full_X.drop(['FILTER'], axis=1)\n",
    "df_test_X = df_test_X.drop(['FILTER'], axis=1)"
   ]
  },
  {
   "cell_type": "markdown",
   "metadata": {},
   "source": [
    "# Supervised Learning Approaches. Optimize for F1 score using cross-validation (classes are significantly imbalanced, so we should not simple optimize for accuracy)"
   ]
  },
  {
   "cell_type": "code",
   "execution_count": 92,
   "metadata": {
    "collapsed": true
   },
   "outputs": [],
   "source": [
    "# Number of folds for cross validation\n",
    "num_folds = 5\n",
    "\n",
    "# Loss function to use. Must be either 'l1' or 'l2'\n",
    "loss_function = 'l2'  "
   ]
  },
  {
   "cell_type": "code",
   "execution_count": 93,
   "metadata": {
    "collapsed": true
   },
   "outputs": [],
   "source": [
    "def f1_prec_recall(pred, labels, verbose=True):\n",
    "    f1 = f1_score(pred, labels, average='binary')\n",
    "    prec = precision_score(pred, labels)\n",
    "    recall = recall_score(pred, labels)\n",
    "    \n",
    "    if verbose:\n",
    "        # Make a Pandas DataFrame to print results more nicely\n",
    "        df = pd.DataFrame(data=np.asarray([[f1, prec, recall]]),\n",
    "                         columns=['F1', 'Precision', 'Recall'])\n",
    "        print df.to_string(index=False, justify='left')\n",
    "        \n",
    "    return f1, prec, recall"
   ]
  },
  {
   "cell_type": "markdown",
   "metadata": {
    "collapsed": true
   },
   "source": [
    "## Train the logistic regression classifier. (If you've already ran this notebook, then you can skip this block and just load the saved classifier)"
   ]
  },
  {
   "cell_type": "code",
   "execution_count": 94,
   "metadata": {
    "collapsed": false
   },
   "outputs": [
    {
     "name": "stdout",
     "output_type": "stream",
     "text": [
      "Logistic Regression CV Time (in seconds):  188.916095\n"
     ]
    }
   ],
   "source": [
    "lr_start = time.clock()\n",
    "\n",
    "lr_params = {'C':np.logspace(1, 7, 20)}\n",
    "lr_obj = linear_model.LogisticRegression(penalty=loss_function, random_state=0)\n",
    "\n",
    "# Note: GridSearchCV will automatically use Stratified k-fold CV if the labels are binary and \n",
    "# the 'cv' parameter is an int\n",
    "lr_classifier = GridSearchCV(lr_obj, lr_params, cv=num_folds, scoring='f1')\n",
    "lr_classifier.fit(df_train_X, df_train_Y)\n",
    "\n",
    "lr_stop = time.clock()\n",
    "lr_time_train = lr_stop - lr_start\n",
    "\n",
    "print 'Logistic Regression CV Time (in seconds): ', lr_time_train"
   ]
  },
  {
   "cell_type": "code",
   "execution_count": 95,
   "metadata": {
    "collapsed": false
   },
   "outputs": [
    {
     "data": {
      "text/plain": [
       "['saved_models/lr_classifier']"
      ]
     },
     "execution_count": 95,
     "metadata": {},
     "output_type": "execute_result"
    }
   ],
   "source": [
    "# Save the classifier\n",
    "joblib.dump(lr_classifier, join(saved_models_dir,'lr_classifier'))"
   ]
  },
  {
   "cell_type": "code",
   "execution_count": 32,
   "metadata": {
    "collapsed": true
   },
   "outputs": [],
   "source": [
    "# Load the saved classifier\n",
    "lr_classifier = joblib.load(join(saved_models_dir,'lr_classifier'))"
   ]
  },
  {
   "cell_type": "code",
   "execution_count": 97,
   "metadata": {
    "collapsed": false
   },
   "outputs": [
    {
     "name": "stdout",
     "output_type": "stream",
     "text": [
      "Logistic Regression Best Estimator:  LogisticRegression(C=1128837.8916846884, class_weight=None, dual=False,\n",
      "          fit_intercept=True, intercept_scaling=1, max_iter=100,\n",
      "          multi_class='ovr', n_jobs=1, penalty='l2', random_state=0,\n",
      "          solver='liblinear', tol=0.0001, verbose=0, warm_start=False)\n"
     ]
    }
   ],
   "source": [
    "print 'Logistic Regression Best Estimator: ', lr_classifier.best_estimator_"
   ]
  },
  {
   "cell_type": "markdown",
   "metadata": {},
   "source": [
    "## Support Vector Classifier. Train using 3-fold stratified CV with grid search for hyperparameter selection. "
   ]
  },
  {
   "cell_type": "code",
   "execution_count": 115,
   "metadata": {
    "collapsed": false
   },
   "outputs": [
    {
     "name": "stdout",
     "output_type": "stream",
     "text": [
      "SVC CV Time (in seconds):  2225.512002\n"
     ]
    }
   ],
   "source": [
    "svc_num_folds = 3\n",
    "\n",
    "svc_start = time.clock()\n",
    "\n",
    "svc_params = {'C':np.logspace(2, 4, 3), 'gamma':[0.1]}\n",
    "svc_obj = SVC(kernel='rbf', random_state=0)\n",
    "\n",
    "# Note: GridSearchCV will automatically use Stratified k-fold CV if the labels are binary and \n",
    "# the 'cv' parameter is an int\n",
    "svc_classifier = GridSearchCV(svc_obj, svc_params, cv=svc_num_folds, scoring='f1')\n",
    "svc_classifier.fit(df_train_X, df_train_Y)\n",
    "\n",
    "svc_stop = time.clock()\n",
    "svc_time_train = svc_stop - svc_start\n",
    "\n",
    "print 'SVC CV Time (in seconds): ', svc_time_train"
   ]
  },
  {
   "cell_type": "code",
   "execution_count": 116,
   "metadata": {
    "collapsed": false
   },
   "outputs": [
    {
     "data": {
      "text/plain": [
       "['saved_models/svc_classifier']"
      ]
     },
     "execution_count": 116,
     "metadata": {},
     "output_type": "execute_result"
    }
   ],
   "source": [
    "# Save the classifier\n",
    "joblib.dump(svc_classifier, join(saved_models_dir,'svc_classifier'))"
   ]
  },
  {
   "cell_type": "code",
   "execution_count": 34,
   "metadata": {
    "collapsed": true
   },
   "outputs": [],
   "source": [
    "# Load the classifier\n",
    "svc_classifier = joblib.load(join(saved_models_dir,'svc_classifier'))"
   ]
  },
  {
   "cell_type": "code",
   "execution_count": 135,
   "metadata": {
    "collapsed": false
   },
   "outputs": [
    {
     "name": "stdout",
     "output_type": "stream",
     "text": [
      "SVC Forest Best Estimator:  SVC(C=10000.0, cache_size=200, class_weight=None, coef0=0.0,\n",
      "  decision_function_shape=None, degree=3, gamma=0.1, kernel='rbf',\n",
      "  max_iter=-1, probability=False, random_state=0, shrinking=True,\n",
      "  tol=0.001, verbose=False)\n"
     ]
    }
   ],
   "source": [
    "print 'SVC Forest Best Estimator: ', svc_classifier.best_estimator_"
   ]
  },
  {
   "cell_type": "markdown",
   "metadata": {},
   "source": [
    "## Random Forest Classifier"
   ]
  },
  {
   "cell_type": "code",
   "execution_count": 99,
   "metadata": {
    "collapsed": false
   },
   "outputs": [
    {
     "name": "stdout",
     "output_type": "stream",
     "text": [
      "Random Forest CV Time (in seconds):  466.236159\n"
     ]
    }
   ],
   "source": [
    "num_features = df_train_X.shape[1]\n",
    "\n",
    "rf_start = time.clock()\n",
    "\n",
    "# Use 20 trees in the forest (if you have the time or resources, consider using more trees)\n",
    "# However, I've tried up to 50 trees and it makes very little difference on dev set error\n",
    "rf_params = {\"n_estimators\":[20], \n",
    "             \"criterion\": [\"gini\", \"entropy\"], \n",
    "             \"max_features\": range(int(sqrt(num_features)), num_features, 2)\n",
    "            }\n",
    "rf_obj = RandomForestClassifier(random_state=0)\n",
    "\n",
    "rf_classifier = GridSearchCV(rf_obj, rf_params, cv=num_folds, scoring='f1')\n",
    "rf_classifier.fit(df_train_X, df_train_Y)\n",
    "\n",
    "rf_stop = time.clock()\n",
    "rf_time_train = rf_stop - rf_start\n",
    "\n",
    "print 'Random Forest CV Time (in seconds): ', rf_time_train"
   ]
  },
  {
   "cell_type": "code",
   "execution_count": 100,
   "metadata": {
    "collapsed": false
   },
   "outputs": [
    {
     "data": {
      "text/plain": [
       "['saved_models/rf_classifier']"
      ]
     },
     "execution_count": 100,
     "metadata": {},
     "output_type": "execute_result"
    }
   ],
   "source": [
    "# Save the classifier\n",
    "joblib.dump(rf_classifier, join(saved_models_dir,'rf_classifier'))"
   ]
  },
  {
   "cell_type": "code",
   "execution_count": 37,
   "metadata": {
    "collapsed": true
   },
   "outputs": [],
   "source": [
    "rf_classifier = joblib.load(join(saved_models_dir,'rf_classifier'))"
   ]
  },
  {
   "cell_type": "code",
   "execution_count": 101,
   "metadata": {
    "collapsed": false
   },
   "outputs": [
    {
     "name": "stdout",
     "output_type": "stream",
     "text": [
      "Rand Forest Best Estimator:  RandomForestClassifier(bootstrap=True, class_weight=None, criterion='entropy',\n",
      "            max_depth=None, max_features=3, max_leaf_nodes=None,\n",
      "            min_impurity_split=1e-07, min_samples_leaf=1,\n",
      "            min_samples_split=2, min_weight_fraction_leaf=0.0,\n",
      "            n_estimators=20, n_jobs=1, oob_score=False, random_state=0,\n",
      "            verbose=0, warm_start=False)\n"
     ]
    }
   ],
   "source": [
    "print 'Rand Forest Best Estimator: ', rf_classifier.best_estimator_"
   ]
  },
  {
   "cell_type": "markdown",
   "metadata": {},
   "source": [
    "# Evaluate classifiers on test set. First, we need to retrain classifiers on full dataset using optimal parameters that we found above using cross validation"
   ]
  },
  {
   "cell_type": "markdown",
   "metadata": {},
   "source": [
    "## Logistic Regression"
   ]
  },
  {
   "cell_type": "code",
   "execution_count": 132,
   "metadata": {
    "collapsed": false
   },
   "outputs": [
    {
     "name": "stdout",
     "output_type": "stream",
     "text": [
      "Execution Time (in seconds):  2.24534\n",
      "F1        Precision  Recall \n",
      "0.968975  0.951123   0.98751\n"
     ]
    }
   ],
   "source": [
    "lr_start = time.clock()\n",
    "\n",
    "lr_classifier_full = linear_model.LogisticRegression(penalty=loss_function, C=lr_classifier.best_estimator_.C)\n",
    "lr_classifier_full.fit(df_train_full_X, df_train_full_Y) \n",
    "lr_pred_test = lr_classifier_full.predict(df_test_X)\n",
    "\n",
    "lr_stop = time.clock()\n",
    "lr_time_test = lr_stop - lr_start\n",
    "print 'Execution Time (in seconds): ', lr_time_test\n",
    "\n",
    "lr_f1, lr_prec, lr_recall = f1_prec_recall(df_test_Y, lr_pred_test)  "
   ]
  },
  {
   "cell_type": "markdown",
   "metadata": {},
   "source": [
    "## SVC"
   ]
  },
  {
   "cell_type": "code",
   "execution_count": 117,
   "metadata": {
    "collapsed": false
   },
   "outputs": [
    {
     "name": "stdout",
     "output_type": "stream",
     "text": [
      "F1        Precision  Recall  \n",
      "0.726111  0.857683   0.629537\n"
     ]
    }
   ],
   "source": [
    "svc_pred_test = svc_classifier.predict(df_test_X)\n",
    "svc_f1, svc_prec, svc_recall = f1_prec_recall(df_test_Y, svc_pred_test)  "
   ]
  },
  {
   "cell_type": "markdown",
   "metadata": {},
   "source": [
    "## Random Forest"
   ]
  },
  {
   "cell_type": "code",
   "execution_count": 136,
   "metadata": {
    "collapsed": false
   },
   "outputs": [
    {
     "name": "stdout",
     "output_type": "stream",
     "text": [
      "Execution Time (in seconds):  7.962148\n",
      "F1        Precision  Recall  \n",
      "0.953911  0.970779   0.937619\n"
     ]
    }
   ],
   "source": [
    "rf_start = time.clock()\n",
    "\n",
    "rf_best_est = rf_classifier.best_estimator_\n",
    "rf_model_full = RandomForestClassifier(n_estimators=rf_best_est.n_estimators, \n",
    "                                       criterion=rf_best_est.criterion,\n",
    "                                       max_features=rf_best_est.max_features)\n",
    "\n",
    "rf_model_full.fit(df_train_full_X, df_train_full_Y)\n",
    "rf_pred_test = rf_model_full.predict(df_test_X)\n",
    "\n",
    "rf_stop = time.clock()\n",
    "rf_time_test = rf_stop - rf_start\n",
    "print 'Execution Time (in seconds): ', rf_time_test\n",
    "\n",
    "rf_f1, rf_prec, rf_recall = f1_prec_recall(df_test_Y, rf_pred_test)  "
   ]
  },
  {
   "cell_type": "markdown",
   "metadata": {},
   "source": [
    "# Plot the Results (don't plot SVM since it performed very poorly)"
   ]
  },
  {
   "cell_type": "code",
   "execution_count": 128,
   "metadata": {
    "collapsed": false
   },
   "outputs": [],
   "source": [
    "methods = ['VQSR (99%)', 'VQSR (99.9%)', 'Logistic Reg', 'Rand Forest']\n",
    "colors = ['c', 'b', 'r', 'g']\n",
    "vqsr_tranche_idx_99 = vqsr_tranches_uniq.index(PASS_ALL)\n",
    "vqsr_tranche_idx_99_9 = vqsr_tranches_uniq.index(TRANCHE_99)\n",
    "\n",
    "font = {'family' : 'normal',\n",
    "        'weight' : 'normal',\n",
    "        'size'   : 14}\n",
    "\n",
    "plt.rc('font', **font)"
   ]
  },
  {
   "cell_type": "code",
   "execution_count": 129,
   "metadata": {
    "collapsed": false
   },
   "outputs": [
    {
     "data": {
      "text/plain": [
       "<matplotlib.figure.Figure at 0x115e1ecd0>"
      ]
     },
     "metadata": {},
     "output_type": "display_data"
    },
    {
     "data": {
      "image/png": "[encoded data removed]",
      "text/plain": [
       "<matplotlib.figure.Figure at 0x12a44ef90>"
      ]
     },
     "metadata": {},
     "output_type": "display_data"
    }
   ],
   "source": [
    "plt.figure()\n",
    "\n",
    "f1s = [vqsr_f1[vqsr_tranche_idx_99], vqsr_f1[vqsr_tranche_idx_99_9], lr_f1, rf_f1]\n",
    "ind = np.arange(len(methods))  # the x locations for the groups\n",
    "width = 0.35       # the width of the bars\n",
    "\n",
    "fig, ax = plt.subplots()\n",
    "rects = ax.bar(ind, f1s, width)\n",
    "for i,c in enumerate(colors):\n",
    "    rects[i].set_color(c)\n",
    "\n",
    "ax.set_xticks(ind + width/2)\n",
    "ax.set_xticklabels((methods), rotation=-30)\n",
    "\n",
    "plt.ylim([0.9, 1.0])\n",
    "plt.ylabel('F1 Score', fontsize=24)\n",
    "plt.show()"
   ]
  },
  {
   "cell_type": "code",
   "execution_count": 130,
   "metadata": {
    "collapsed": false
   },
   "outputs": [
    {
     "data": {
      "text/plain": [
       "<matplotlib.figure.Figure at 0x11542ea90>"
      ]
     },
     "metadata": {},
     "output_type": "display_data"
    },
    {
     "data": {
      "image/png": "[encoded data removed]",
      "text/plain": [
       "<matplotlib.figure.Figure at 0x120232f50>"
      ]
     },
     "metadata": {},
     "output_type": "display_data"
    }
   ],
   "source": [
    "plt.figure()\n",
    "\n",
    "precs = [vqsr_prec[vqsr_tranche_idx_99], vqsr_prec[vqsr_tranche_idx_99_9], lr_prec, rf_prec]\n",
    "ind = np.arange(len(methods))  # the x locations for the groups\n",
    "width = 0.35       # the width of the bars\n",
    "\n",
    "fig, ax = plt.subplots()\n",
    "rects = ax.bar(ind, precs, width)\n",
    "for i,c in enumerate(colors):\n",
    "    rects[i].set_color(c)\n",
    "\n",
    "ax.set_xticks(ind + width/2)\n",
    "ax.set_xticklabels((methods), rotation=-30)\n",
    "\n",
    "plt.ylim([0.9, 1.0])\n",
    "plt.ylabel('Precision', fontsize=24)\n",
    "plt.show()\n"
   ]
  },
  {
   "cell_type": "code",
   "execution_count": 131,
   "metadata": {
    "collapsed": false
   },
   "outputs": [
    {
     "data": {
      "text/plain": [
       "<matplotlib.figure.Figure at 0x12a1f6f10>"
      ]
     },
     "metadata": {},
     "output_type": "display_data"
    },
    {
     "data": {
      "image/png": "[encoded data removed]",
      "text/plain": [
       "<matplotlib.figure.Figure at 0x12a3ae250>"
      ]
     },
     "metadata": {},
     "output_type": "display_data"
    }
   ],
   "source": [
    "plt.figure()\n",
    "\n",
    "recalls = [vqsr_recall[vqsr_tranche_idx_99], vqsr_recall[vqsr_tranche_idx_99_9], lr_recall, rf_recall]\n",
    "ind = np.arange(len(methods))  # the x locations for the groups\n",
    "width = 0.35       # the width of the bars\n",
    "\n",
    "fig, ax = plt.subplots()\n",
    "rects = ax.bar(ind, recalls, width)\n",
    "for i,c in enumerate(colors):\n",
    "    rects[i].set_color(c)\n",
    "\n",
    "ax.set_xticks(ind + width/2)\n",
    "ax.set_xticklabels((methods), rotation=-30)\n",
    "\n",
    "plt.ylim([0.9, 1.0])\n",
    "plt.ylabel('Recall', fontsize=24)\n",
    "plt.show()"
   ]
  },
  {
   "cell_type": "markdown",
   "metadata": {
    "collapsed": true
   },
   "source": [
    "## Total Execution Times"
   ]
  },
  {
   "cell_type": "code",
   "execution_count": 127,
   "metadata": {
    "collapsed": false
   },
   "outputs": [
    {
     "name": "stdout",
     "output_type": "stream",
     "text": [
      "Total Execution Times:\n",
      "Logistic Reg:  191.633909\n",
      "SVM:  2225.512002\n",
      "Random Forest:  473.000159\n"
     ]
    }
   ],
   "source": [
    "lr_total_time = lr_time_train + lr_time_test\n",
    "svc_total_time = svc_time_train\n",
    "rf_total_time = rf_time_train + rf_time_test\n",
    "print 'Total Execution Times:'\n",
    "print 'Logistic Reg: ', lr_total_time\n",
    "print 'SVM: ', svc_total_time\n",
    "print 'Random Forest: ', rf_total_time"
   ]
  },
  {
   "cell_type": "code",
   "execution_count": null,
   "metadata": {
    "collapsed": true
   },
   "outputs": [],
   "source": []
  }
 ],
 "metadata": {
  "kernelspec": {
   "display_name": "Python 2",
   "language": "python",
   "name": "python2"
  },
  "language_info": {
   "codemirror_mode": {
    "name": "ipython",
    "version": 2
   },
   "file_extension": ".py",
   "mimetype": "text/x-python",
   "name": "python",
   "nbconvert_exporter": "python",
   "pygments_lexer": "ipython2",
   "version": "2.7.12"
  }
 },
 "nbformat": 4,
 "nbformat_minor": 0
}
