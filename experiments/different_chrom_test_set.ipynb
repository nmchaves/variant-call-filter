{
 "cells": [
  {
   "cell_type": "markdown",
   "metadata": {},
   "source": [
    "# Training & Evaluation of Several Filters"
   ]
  },
  {
   "cell_type": "code",
   "execution_count": 1,
   "metadata": {
    "collapsed": false
   },
   "outputs": [
    {
     "name": "stderr",
     "output_type": "stream",
     "text": [
      "/Users/nicochaves/anaconda/lib/python2.7/site-packages/matplotlib/font_manager.py:273: UserWarning: Matplotlib is building the font cache using fc-list. This may take a moment.\n",
      "  warnings.warn('Matplotlib is building the font cache using fc-list. This may take a moment.')\n",
      "/Users/nicochaves/anaconda/lib/python2.7/site-packages/sklearn/cross_validation.py:44: DeprecationWarning: This module was deprecated in version 0.18 in favor of the model_selection module into which all the refactored classes and functions are moved. Also note that the interface of the new CV iterators are different from that of this module. This module will be removed in 0.20.\n",
      "  \"This module will be removed in 0.20.\", DeprecationWarning)\n",
      "/Users/nicochaves/anaconda/lib/python2.7/site-packages/sklearn/grid_search.py:43: DeprecationWarning: This module was deprecated in version 0.18 in favor of the model_selection module into which all the refactored classes and functions are moved. This module will be removed in 0.20.\n",
      "  DeprecationWarning)\n"
     ]
    }
   ],
   "source": [
    "%matplotlib inline\n",
    "import matplotlib.pyplot as plt\n",
    "import pandas as pd\n",
    "import numpy as np\n",
    "from sklearn import linear_model\n",
    "from sklearn.model_selection import train_test_split, StratifiedKFold\n",
    "from sklearn.metrics import roc_auc_score, roc_curve, auc, accuracy_score, f1_score\n",
    "from sklearn.grid_search import GridSearchCV\n",
    "from sklearn.svm import SVC, OneClassSVM\n",
    "from sklearn.ensemble import RandomForestClassifier\n",
    "import time\n",
    "from math import sqrt\n",
    "from sklearn.externals import joblib"
   ]
  },
  {
   "cell_type": "markdown",
   "metadata": {},
   "source": [
    "## Load Training Data (Chromosome 11)"
   ]
  },
  {
   "cell_type": "code",
   "execution_count": 2,
   "metadata": {
    "collapsed": false
   },
   "outputs": [],
   "source": [
    "train_dir = '../data/processed/chrom11/'\n",
    "train_file = 'NA12878.LowSeq.illumina.bwa.sorted.dedup.11.sam.wFlag.qual.recalibrated.filtered.noNAN.scaled.withGndTruthLabels.table'\n",
    "df_train_full = pd.read_csv(train_dir + train_file, sep='\\t')"
   ]
  },
  {
   "cell_type": "markdown",
   "metadata": {},
   "source": [
    "## Load Test Data (Chromosome 20)"
   ]
  },
  {
   "cell_type": "code",
   "execution_count": 3,
   "metadata": {
    "collapsed": false
   },
   "outputs": [],
   "source": [
    "# Load the test data (Chrom 20)\n",
    "test_dir = '../data/processed/chrom20/'\n",
    "test_file = 'NA12878.LowSeq.illumina.bwa.sorted.dedup.20.sam.wFlag.qual.recalibrated.filtered.noNAN.scaled.withGndTruthLabels.table'\n",
    "df_test = pd.read_csv(test_dir + test_file, sep='\\t')"
   ]
  },
  {
   "cell_type": "code",
   "execution_count": 4,
   "metadata": {
    "collapsed": false
   },
   "outputs": [
    {
     "name": "stdout",
     "output_type": "stream",
     "text": [
      "Features (some of these may get taken out):  Index([u'Unnamed: 0', u'QUAL', u'AC', u'AF', u'DP', u'FS', u'MLEAC', u'MLEAF',\n",
      "       u'MQ', u'QD', u'SOR', u'sample1.DP', u'sample1.GQ',\n",
      "       u'POSITIVE_TRAIN_SITE', u'DB', u'FILTER', u'GROUND_TRUTH'],\n",
      "      dtype='object')\n",
      "# training examples:  187242\n",
      "# test examples:  86843\n"
     ]
    }
   ],
   "source": [
    "print 'Features (some of these may get taken out): ', df_train_full.columns\n",
    "print '# training examples: ', df_train_full.shape[0]\n",
    "print '# test examples: ', df_test.shape[0]"
   ]
  },
  {
   "cell_type": "code",
   "execution_count": 5,
   "metadata": {
    "collapsed": false
   },
   "outputs": [],
   "source": [
    "df_train_full = df_train_full.drop('Unnamed: 0', axis=1)  \n",
    "df_test = df_test.drop('Unnamed: 0', axis=1)\n",
    "\n",
    "#df_train_full = df_train_full.drop(['Unnamed: 0', 'sample1.PL', 'sample1.AD', 'sample1.GT', 'REF', 'ALT', 'ID', 'CHROM', 'POS'], axis=1)"
   ]
  },
  {
   "cell_type": "markdown",
   "metadata": {},
   "source": [
    "## Split training data into train and test"
   ]
  },
  {
   "cell_type": "code",
   "execution_count": 6,
   "metadata": {
    "collapsed": false
   },
   "outputs": [],
   "source": [
    "num_train = df_train_full.shape[0]\n",
    "idx_train_dev = train_test_split(range(num_train), range(num_train), test_size = 0.3, random_state=0)\n",
    "idx_train = idx_train_dev[0]\n",
    "idx_dev = idx_train_dev[1]"
   ]
  },
  {
   "cell_type": "code",
   "execution_count": 7,
   "metadata": {
    "collapsed": true
   },
   "outputs": [],
   "source": [
    "df_train = df_train_full.loc[idx_train,:]\n",
    "df_dev = df_train_full.loc[idx_dev,:]\n",
    "\n",
    "df_train_Y = df_train['GROUND_TRUTH']\n",
    "df_train_X = df_train.drop(['GROUND_TRUTH'], axis=1)\n",
    "\n",
    "df_dev_Y = df_dev['GROUND_TRUTH']\n",
    "df_dev_X = df_dev.drop(['GROUND_TRUTH'], axis=1)\n",
    "\n",
    "df_test_Y = df_test['GROUND_TRUTH']\n",
    "df_test_X = df_test.drop(['GROUND_TRUTH'], axis=1)\n",
    "\n",
    "df_train_full_Y = df_train_full['GROUND_TRUTH']\n",
    "df_train_full_X = df_train_full.drop(['GROUND_TRUTH'], axis=1)"
   ]
  },
  {
   "cell_type": "code",
   "execution_count": 8,
   "metadata": {
    "collapsed": true
   },
   "outputs": [],
   "source": [
    "def sensitivity_specificity(labels, predictions):\n",
    "    fpr, tpr, thresholds = roc_curve(labels, predictions, pos_label=1)\n",
    "    return tpr[1], 1-fpr[1]"
   ]
  },
  {
   "cell_type": "markdown",
   "metadata": {},
   "source": [
    "# Evaluate VQSR Performance"
   ]
  },
  {
   "cell_type": "code",
   "execution_count": 9,
   "metadata": {
    "collapsed": false
   },
   "outputs": [],
   "source": [
    "# See https://software.broadinstitute.org/gatk/guide/article?id=39 for interpretation of tranche labels\n",
    "\n",
    "LOW_QUAL = 'LowQual'\n",
    "TRANCHE_99_9 = 'VQSRTrancheSNP99.90to100.00' # if you ignore these and the above, you recover at most 99.9% of all variants. has some low vqslod values\n",
    "TRANCHE_99 = 'VQSRTrancheSNP99.00to99.90' # if you retain these and ignore the above, you'll recover at most 99% of variants. \n",
    "PASS_ALL = 'PASS'  # if you **retain** these and ignore the above, you'll recover at most 90% of the variants\n",
    "\n",
    "def did_variant_pass_filter(label, tranche):\n",
    "    return label == PASS_ALL or \\\n",
    "            (tranche == TRANCHE_99 and label == TRANCHE_99) or \\\n",
    "            (tranche == TRANCHE_99_9 and (label == TRANCHE_99 or label == TRANCHE_99_9))\n",
    "            \n",
    "def convert_vqsr_labels(raw_labels, tranche=None):\n",
    "    num_labels = raw_labels.shape[0]\n",
    "    labels = num_labels * [0]\n",
    "    for i, label in enumerate(raw_labels):\n",
    "        if did_variant_pass_filter(label, tranche):\n",
    "            labels[i] = 1\n",
    "    return labels        "
   ]
  },
  {
   "cell_type": "code",
   "execution_count": 10,
   "metadata": {
    "collapsed": false
   },
   "outputs": [
    {
     "name": "stdout",
     "output_type": "stream",
     "text": [
      "Tranche:  VQSRTrancheSNP99.00to99.90\n",
      "VQSR Dev Accuracy:  0.922898901608\n",
      "VQSR Test Accuracy:  0.925348041869\n",
      "Sensitivity:  0.96907173811\n",
      "Specificity:  0.705109489051\n",
      "F1 score:  0.923066278292\n",
      "Tranche:  VQSRTrancheSNP99.90to100.00\n",
      "VQSR Dev Accuracy:  0.929467893828\n",
      "VQSR Test Accuracy:  0.837304100503\n",
      "Sensitivity:  0.98574346518\n",
      "Specificity:  0.0896072297532\n",
      "F1 score:  0.784819378897\n",
      "Tranche:  PASS\n",
      "VQSR Dev Accuracy:  0.886475708971\n",
      "VQSR Test Accuracy:  0.919463860069\n",
      "Sensitivity:  0.922230809572\n",
      "Specificity:  0.905526590198\n",
      "F1 score:  0.923450057531\n"
     ]
    }
   ],
   "source": [
    "vqsr_dev_labels = df_dev_X['FILTER']\n",
    "vqsr_test_labels = df_test_X['FILTER']\n",
    "vqsr_tranches_uniq = set(df_dev_X['FILTER'])\n",
    "\n",
    "if LOW_QUAL in vqsr_tranches_uniq:\n",
    "    vqsr_tranches_uniq -= {LOW_QUAL}\n",
    "\n",
    "vqsr_tranches_uniq = list(vqsr_tranches_uniq)    \n",
    "\n",
    "vqsr_sens = np.zeros(len(vqsr_tranches_uniq))\n",
    "vqsr_spec = np.zeros(len(vqsr_tranches_uniq))\n",
    "vqsr_f1 = np.zeros(len(vqsr_tranches_uniq))\n",
    "\n",
    "for i, tranche in enumerate(vqsr_tranches_uniq):\n",
    "    print 'Tranche: ', tranche\n",
    "    vqsr_dev_labels_binary = convert_vqsr_labels(vqsr_dev_labels, tranche)\n",
    "    vqsr_dev_acc = accuracy_score(df_dev_Y, vqsr_dev_labels_binary)\n",
    "    print 'VQSR Dev Accuracy: ', vqsr_dev_acc\n",
    "    vqsr_test_labels_binary = convert_vqsr_labels(vqsr_test_labels, tranche)\n",
    "    vqsr_test_acc = accuracy_score(df_test_Y, vqsr_test_labels_binary)\n",
    "    print 'VQSR Test Accuracy: ', vqsr_test_acc\n",
    "    \n",
    "    vqsr_sens[i], vqsr_spec[i] = sensitivity_specificity(df_test_Y, vqsr_test_labels_binary)\n",
    "    print 'Sensitivity: ', vqsr_sens[i]\n",
    "    print 'Specificity: ', vqsr_spec[i]\n",
    "    \n",
    "    \n",
    "    vqsr_f1[i] = f1_score(df_test_Y, vqsr_test_labels_binary, average='weighted')  \n",
    "    print 'F1 score: ', vqsr_f1[i]"
   ]
  },
  {
   "cell_type": "markdown",
   "metadata": {
    "collapsed": true
   },
   "source": [
    "### TODO: Consider using VQSLOD to obtain AUC Score. Issue is that sometimes the VQSLOD is NAN"
   ]
  },
  {
   "cell_type": "code",
   "execution_count": 29,
   "metadata": {
    "collapsed": false
   },
   "outputs": [
    {
     "ename": "NameError",
     "evalue": "name 'filename' is not defined",
     "output_type": "error",
     "traceback": [
      "\u001b[0;31m---------------------------------------------------------------------------\u001b[0m",
      "\u001b[0;31mNameError\u001b[0m                                 Traceback (most recent call last)",
      "\u001b[0;32m<ipython-input-29-4a290de2baa3>\u001b[0m in \u001b[0;36m<module>\u001b[0;34m()\u001b[0m\n\u001b[1;32m      1\u001b[0m \u001b[0;31m## Verify that the VQSR tranches worked as expected\u001b[0m\u001b[0;34m\u001b[0m\u001b[0;34m\u001b[0m\u001b[0m\n\u001b[1;32m      2\u001b[0m \u001b[0mfile_dir\u001b[0m \u001b[0;34m=\u001b[0m \u001b[0;34m'../../data/processed/chrom20/'\u001b[0m\u001b[0;34m\u001b[0m\u001b[0m\n\u001b[0;32m----> 3\u001b[0;31m \u001b[0mdf2\u001b[0m \u001b[0;34m=\u001b[0m \u001b[0mpd\u001b[0m\u001b[0;34m.\u001b[0m\u001b[0mread_csv\u001b[0m\u001b[0;34m(\u001b[0m\u001b[0mfile_dir\u001b[0m \u001b[0;34m+\u001b[0m \u001b[0mfilename\u001b[0m \u001b[0;34m+\u001b[0m \u001b[0;34m'.table'\u001b[0m\u001b[0;34m,\u001b[0m \u001b[0msep\u001b[0m\u001b[0;34m=\u001b[0m\u001b[0;34m'\\t'\u001b[0m\u001b[0;34m)\u001b[0m \u001b[0;31m# training and dev sets combined\u001b[0m\u001b[0;34m\u001b[0m\u001b[0m\n\u001b[0m\u001b[1;32m      4\u001b[0m \u001b[0mdf2\u001b[0m\u001b[0;34m.\u001b[0m\u001b[0mcolumns\u001b[0m\u001b[0;34m\u001b[0m\u001b[0m\n",
      "\u001b[0;31mNameError\u001b[0m: name 'filename' is not defined"
     ]
    }
   ],
   "source": [
    "## Verify that the VQSR tranches worked as expected\n",
    "file_dir = '../../data/processed/chrom20/'\n",
    "df2 = pd.read_csv(file_dir + filename + '.table', sep='\\t') # training and dev sets combined\n",
    "df2.columns"
   ]
  },
  {
   "cell_type": "code",
   "execution_count": 30,
   "metadata": {
    "collapsed": false
   },
   "outputs": [
    {
     "ename": "NameError",
     "evalue": "name 'df2' is not defined",
     "output_type": "error",
     "traceback": [
      "\u001b[0;31m---------------------------------------------------------------------------\u001b[0m",
      "\u001b[0;31mNameError\u001b[0m                                 Traceback (most recent call last)",
      "\u001b[0;32m<ipython-input-30-7c3af7e5deb1>\u001b[0m in \u001b[0;36m<module>\u001b[0;34m()\u001b[0m\n\u001b[0;32m----> 1\u001b[0;31m \u001b[0mdf2_pos\u001b[0m \u001b[0;34m=\u001b[0m \u001b[0mdf2\u001b[0m\u001b[0;34m[\u001b[0m\u001b[0mdf2\u001b[0m\u001b[0;34m[\u001b[0m\u001b[0;34m'POSITIVE_TRAIN_SITE'\u001b[0m\u001b[0;34m]\u001b[0m \u001b[0;34m==\u001b[0m \u001b[0;36m1\u001b[0m\u001b[0;34m]\u001b[0m\u001b[0;34m[\u001b[0m\u001b[0;34m'FILTER'\u001b[0m\u001b[0;34m]\u001b[0m\u001b[0;34m\u001b[0m\u001b[0m\n\u001b[0m\u001b[1;32m      2\u001b[0m \u001b[0mnum_pos_training_sites\u001b[0m \u001b[0;34m=\u001b[0m \u001b[0mdf2_pos\u001b[0m\u001b[0;34m.\u001b[0m\u001b[0mshape\u001b[0m\u001b[0;34m[\u001b[0m\u001b[0;36m0\u001b[0m\u001b[0;34m]\u001b[0m\u001b[0;34m\u001b[0m\u001b[0m\n\u001b[1;32m      3\u001b[0m \u001b[0;32mprint\u001b[0m \u001b[0;34m'# of positive training sites used by VQSR: '\u001b[0m\u001b[0;34m,\u001b[0m \u001b[0mnum_pos_training_sites\u001b[0m\u001b[0;34m\u001b[0m\u001b[0m\n",
      "\u001b[0;31mNameError\u001b[0m: name 'df2' is not defined"
     ]
    }
   ],
   "source": [
    "df2_pos = df2[df2['POSITIVE_TRAIN_SITE'] == 1]['FILTER']\n",
    "num_pos_training_sites = df2_pos.shape[0]\n",
    "print '# of positive training sites used by VQSR: ', num_pos_training_sites"
   ]
  },
  {
   "cell_type": "code",
   "execution_count": 31,
   "metadata": {
    "collapsed": false
   },
   "outputs": [
    {
     "ename": "NameError",
     "evalue": "name 'df2_pos' is not defined",
     "output_type": "error",
     "traceback": [
      "\u001b[0;31m---------------------------------------------------------------------------\u001b[0m",
      "\u001b[0;31mNameError\u001b[0m                                 Traceback (most recent call last)",
      "\u001b[0;32m<ipython-input-31-27d5945a0a1c>\u001b[0m in \u001b[0;36m<module>\u001b[0;34m()\u001b[0m\n\u001b[0;32m----> 1\u001b[0;31m \u001b[0mnumPass\u001b[0m \u001b[0;34m=\u001b[0m \u001b[0mdf2_pos\u001b[0m\u001b[0;34m[\u001b[0m\u001b[0mdf2_pos\u001b[0m \u001b[0;34m==\u001b[0m \u001b[0;34m'PASS'\u001b[0m\u001b[0;34m]\u001b[0m\u001b[0;34m.\u001b[0m\u001b[0mshape\u001b[0m\u001b[0;34m[\u001b[0m\u001b[0;36m0\u001b[0m\u001b[0;34m]\u001b[0m\u001b[0;34m\u001b[0m\u001b[0m\n\u001b[0m\u001b[1;32m      2\u001b[0m \u001b[0mnum99\u001b[0m \u001b[0;34m=\u001b[0m \u001b[0mdf2_pos\u001b[0m\u001b[0;34m[\u001b[0m\u001b[0mdf2_pos\u001b[0m \u001b[0;34m==\u001b[0m \u001b[0;34m'VQSRTrancheSNP99.00to99.90'\u001b[0m\u001b[0;34m]\u001b[0m\u001b[0;34m.\u001b[0m\u001b[0mshape\u001b[0m\u001b[0;34m[\u001b[0m\u001b[0;36m0\u001b[0m\u001b[0;34m]\u001b[0m\u001b[0;34m\u001b[0m\u001b[0m\n\u001b[1;32m      3\u001b[0m \u001b[0mnum99_9\u001b[0m \u001b[0;34m=\u001b[0m \u001b[0mdf2_pos\u001b[0m\u001b[0;34m[\u001b[0m\u001b[0mdf2_pos\u001b[0m \u001b[0;34m==\u001b[0m \u001b[0;34m'VQSRTrancheSNP99.90to100.00'\u001b[0m\u001b[0;34m]\u001b[0m\u001b[0;34m.\u001b[0m\u001b[0mshape\u001b[0m\u001b[0;34m[\u001b[0m\u001b[0;36m0\u001b[0m\u001b[0;34m]\u001b[0m\u001b[0;34m\u001b[0m\u001b[0m\n\u001b[1;32m      4\u001b[0m \u001b[0mnumLowQual\u001b[0m \u001b[0;34m=\u001b[0m \u001b[0mdf2_pos\u001b[0m\u001b[0;34m[\u001b[0m\u001b[0mdf2_pos\u001b[0m \u001b[0;34m==\u001b[0m \u001b[0;34m'LowQual'\u001b[0m\u001b[0;34m]\u001b[0m\u001b[0;34m.\u001b[0m\u001b[0mshape\u001b[0m\u001b[0;34m[\u001b[0m\u001b[0;36m0\u001b[0m\u001b[0;34m]\u001b[0m\u001b[0;34m\u001b[0m\u001b[0m\n\u001b[1;32m      5\u001b[0m \u001b[0;34m\u001b[0m\u001b[0m\n",
      "\u001b[0;31mNameError\u001b[0m: name 'df2_pos' is not defined"
     ]
    }
   ],
   "source": [
    "numPass = df2_pos[df2_pos == 'PASS'].shape[0]\n",
    "num99 = df2_pos[df2_pos == 'VQSRTrancheSNP99.00to99.90'].shape[0]\n",
    "num99_9 = df2_pos[df2_pos == 'VQSRTrancheSNP99.90to100.00'].shape[0]\n",
    "numLowQual = df2_pos[df2_pos == 'LowQual'].shape[0]\n",
    "\n",
    "print '# PASS: ', numPass, ' or ', 100.0*numPass/num_pos_training_sites, '%'\n",
    "print '# VQSRTrancheSNP99.00to99.90: ', num99, ' or ', 100.0*num99/num_pos_training_sites, '%'\n",
    "print '# VQSRTrancheSNP99.90to100.0: ', num99_9, ' or ', 100.0*num99_9/num_pos_training_sites, '%'\n",
    "print '# LowQual: ', numLowQual"
   ]
  },
  {
   "cell_type": "code",
   "execution_count": 15,
   "metadata": {
    "collapsed": false
   },
   "outputs": [
    {
     "data": {
      "text/plain": [
       "99.78169938631001"
      ]
     },
     "execution_count": 15,
     "metadata": {},
     "output_type": "execute_result"
    }
   ],
   "source": [
    "96.8750954111+ 2.90660397521"
   ]
  },
  {
   "cell_type": "markdown",
   "metadata": {},
   "source": [
    "### It appears that VQSR rounds the VQSLOD thresholds because these sensitivities are not extremely close to the advertised levels. "
   ]
  },
  {
   "cell_type": "markdown",
   "metadata": {},
   "source": [
    "## Remove VQSR Filter label so that we can run non-VQSR methods"
   ]
  },
  {
   "cell_type": "code",
   "execution_count": 11,
   "metadata": {
    "collapsed": false
   },
   "outputs": [],
   "source": [
    "df_train_X = df_train_X.drop(['FILTER'], axis=1)\n",
    "df_dev_X = df_dev_X.drop(['FILTER'], axis=1)\n",
    "df_train_full_X = df_train_full_X.drop(['FILTER'], axis=1)\n",
    "df_test_X = df_test_X.drop(['FILTER'], axis=1)"
   ]
  },
  {
   "cell_type": "markdown",
   "metadata": {},
   "source": [
    "# Supervised Learning Approaches"
   ]
  },
  {
   "cell_type": "code",
   "execution_count": 20,
   "metadata": {
    "collapsed": true
   },
   "outputs": [],
   "source": [
    "# Number of folds for cross validation\n",
    "num_folds = 5 #10\n",
    "\n",
    "loss_function = 'l2'  # Loss function to use. Must be either 'l1' or 'l2'"
   ]
  },
  {
   "cell_type": "markdown",
   "metadata": {
    "collapsed": true
   },
   "source": [
    "## Logistic Regression"
   ]
  },
  {
   "cell_type": "code",
   "execution_count": 13,
   "metadata": {
    "collapsed": false
   },
   "outputs": [
    {
     "name": "stdout",
     "output_type": "stream",
     "text": [
      "Logistic Regression CV Time (in seconds):  163.651102\n"
     ]
    }
   ],
   "source": [
    "lr_start = time.clock()\n",
    "\n",
    "lr_params = {'C':np.logspace(1, 7, 20)}\n",
    "lr_obj = linear_model.LogisticRegression(penalty=loss_function, random_state=0)\n",
    "\n",
    "# Note: GridSearchCV will automatically use Stratified k-fold CV if the labels are binary and \n",
    "# the 'cv' parameter is an int\n",
    "lr_classifier = GridSearchCV(lr_obj, lr_params, cv=num_folds)\n",
    "lr_classifier.fit(df_train_X, df_train_Y)\n",
    "\n",
    "lr_stop = time.clock()\n",
    "lr_time_train = lr_stop - lr_start\n",
    "\n",
    "print 'Logistic Regression CV Time (in seconds): ', lr_time_train"
   ]
  },
  {
   "cell_type": "code",
   "execution_count": 16,
   "metadata": {
    "collapsed": false
   },
   "outputs": [
    {
     "data": {
      "text/plain": [
       "['lr_classifier']"
      ]
     },
     "execution_count": 16,
     "metadata": {},
     "output_type": "execute_result"
    }
   ],
   "source": [
    "# Save the classifier\n",
    "joblib.dump(lr_classifier, 'lr_classifier')"
   ]
  },
  {
   "cell_type": "code",
   "execution_count": 13,
   "metadata": {
    "collapsed": true
   },
   "outputs": [],
   "source": [
    "# Load the saved classifier\n",
    "lr_classifier = joblib.load('lr_classifier')"
   ]
  },
  {
   "cell_type": "code",
   "execution_count": 22,
   "metadata": {
    "collapsed": false
   },
   "outputs": [
    {
     "name": "stdout",
     "output_type": "stream",
     "text": [
      "Logistic Regression Best Score:  0.959792170536\n",
      "Logistic Regression Best Estimator:  LogisticRegression(C=29763.51441631313, class_weight=None, dual=False,\n",
      "          fit_intercept=True, intercept_scaling=1, max_iter=100,\n",
      "          multi_class='ovr', n_jobs=1, penalty='l2', random_state=0,\n",
      "          solver='liblinear', tol=0.0001, verbose=0, warm_start=False)\n",
      "Logistic Regression Score on Dev Set:  0.959713741477\n"
     ]
    }
   ],
   "source": [
    "lr_best_est = lr_classifier.best_estimator_\n",
    "print 'Logistic Regression Best Score: ', lr_classifier.best_score_\n",
    "print 'Logistic Regression Best Estimator: ', lr_best_est\n",
    "lr_dev_score = lr_classifier.score(df_dev_X, df_dev_Y)\n",
    "print 'Logistic Regression Score on Dev Set: ', lr_dev_score"
   ]
  },
  {
   "cell_type": "code",
   "execution_count": null,
   "metadata": {
    "collapsed": false,
    "scrolled": true
   },
   "outputs": [],
   "source": [
    "\"\"\"\n",
    "lr_pred_test = lr_cv_L2.predict(df_test_X)\n",
    "#conf_lr_cv = lr_cv.decision_function(x_te)\n",
    "lr_prob_scores_test = lr_cv_L2.predict_proba(df_test_X)\n",
    "lr_prob_of_pos_test = lr_prob_scores_test[:, 1]\n",
    "\n",
    "lr_auc_test = roc_auc_score(df_test_Y, lr_prob_of_pos_test)\n",
    "lr_acc_test = accuracy_score(df_test_Y, lr_pred_test)\n",
    "print 'AUC: ', lr_auc_test\n",
    "print 'Accuracy: ', lr_acc_test\n",
    "\"\"\""
   ]
  },
  {
   "cell_type": "markdown",
   "metadata": {},
   "source": [
    "## Support Vector Classifier. Train using 5-fold stratified CV with grid search for hyperparameter selection. "
   ]
  },
  {
   "cell_type": "code",
   "execution_count": 14,
   "metadata": {
    "collapsed": false
   },
   "outputs": [
    {
     "name": "stdout",
     "output_type": "stream",
     "text": [
      "SVC CV Time (in seconds):  2207.209559\n"
     ]
    }
   ],
   "source": [
    "svc_num_folds = 3\n",
    "\n",
    "svc_start = time.clock()\n",
    "\n",
    "svc_params = {'C':np.logspace(2, 4, 3), 'gamma':[0.1]}\n",
    "svc_obj = SVC(kernel='rbf', random_state=0)\n",
    "\n",
    "# Note: GridSearchCV will automatically use Stratified k-fold CV if the labels are binary and \n",
    "# the 'cv' parameter is an int\n",
    "svc_classifier = GridSearchCV(svc_obj, svc_params, cv=svc_num_folds)\n",
    "svc_classifier.fit(df_train_X, df_train_Y)\n",
    "\n",
    "svc_stop = time.clock()\n",
    "svc_time_train = svc_stop - svc_start\n",
    "\n",
    "print 'SVC CV Time (in seconds): ', svc_time_train"
   ]
  },
  {
   "cell_type": "code",
   "execution_count": 16,
   "metadata": {
    "collapsed": false
   },
   "outputs": [
    {
     "data": {
      "text/plain": [
       "['svc_classifier']"
      ]
     },
     "execution_count": 16,
     "metadata": {},
     "output_type": "execute_result"
    }
   ],
   "source": [
    "# Save the classifier\n",
    "joblib.dump(svc_classifier, 'svc_classifier')"
   ]
  },
  {
   "cell_type": "code",
   "execution_count": null,
   "metadata": {
    "collapsed": true
   },
   "outputs": [],
   "source": [
    "# Load the classifier\n",
    "svc_classifier = joblib.load('svc_classifier')"
   ]
  },
  {
   "cell_type": "code",
   "execution_count": 23,
   "metadata": {
    "collapsed": false
   },
   "outputs": [
    {
     "name": "stdout",
     "output_type": "stream",
     "text": [
      "SVC Best Score:  0.962393853619\n",
      "SVC Best Estimator:  SVC(C=10000.0, cache_size=200, class_weight=None, coef0=0.0,\n",
      "  decision_function_shape=None, degree=3, gamma=0.1, kernel='rbf',\n",
      "  max_iter=-1, probability=False, random_state=0, shrinking=True,\n",
      "  tol=0.001, verbose=False)\n",
      "SVC Score on Dev Set:  0.962526480694\n"
     ]
    }
   ],
   "source": [
    "svc_best_est = svc_classifier.best_estimator_\n",
    "print 'SVC Best Score: ', svc_classifier.best_score_\n",
    "print 'SVC Best Estimator: ', svc_best_est\n",
    "svc_dev_score = svc_classifier.score(df_dev_X, df_dev_Y)\n",
    "print 'SVC Score on Dev Set: ', svc_dev_score"
   ]
  },
  {
   "cell_type": "markdown",
   "metadata": {},
   "source": [
    "## Random Forest Classifier. Train using 5-fold stratified CV with grid search for hyperparameter selection. "
   ]
  },
  {
   "cell_type": "code",
   "execution_count": 17,
   "metadata": {
    "collapsed": false
   },
   "outputs": [
    {
     "name": "stdout",
     "output_type": "stream",
     "text": [
      "Random Forest CV Time (in seconds):  414.368661\n"
     ]
    }
   ],
   "source": [
    "num_features = df_train_X.shape[1]\n",
    "\n",
    "rf_start = time.clock()\n",
    "\n",
    "# Use 20 trees in the forest (if you have the time or resources, consider using more trees)\n",
    "# However, I've tried up to 50 trees and it makes very little difference on dev set error\n",
    "rf_params = {\"n_estimators\":[20], \n",
    "             \"criterion\": [\"gini\", \"entropy\"], \n",
    "             \"max_features\": range(int(sqrt(num_features)),num_features, 2)\n",
    "            }\n",
    "rf_obj = RandomForestClassifier(random_state=0)\n",
    "\n",
    "rf_classifier = GridSearchCV(rf_obj, rf_params, cv=num_folds)\n",
    "rf_classifier.fit(df_train_X, df_train_Y)\n",
    "\n",
    "rf_stop = time.clock()\n",
    "rf_time_train = rf_stop - rf_start\n",
    "\n",
    "print 'Random Forest CV Time (in seconds): ', rf_time_train"
   ]
  },
  {
   "cell_type": "code",
   "execution_count": 19,
   "metadata": {
    "collapsed": false
   },
   "outputs": [
    {
     "data": {
      "text/plain": [
       "['rf_classifier']"
      ]
     },
     "execution_count": 19,
     "metadata": {},
     "output_type": "execute_result"
    }
   ],
   "source": [
    "# Save the classifier\n",
    "joblib.dump(rf_classifier, 'rf_classifier')"
   ]
  },
  {
   "cell_type": "code",
   "execution_count": 17,
   "metadata": {
    "collapsed": true
   },
   "outputs": [],
   "source": [
    "rf_classifier = joblib.load('rf_classifier')"
   ]
  },
  {
   "cell_type": "code",
   "execution_count": 24,
   "metadata": {
    "collapsed": false
   },
   "outputs": [
    {
     "name": "stdout",
     "output_type": "stream",
     "text": [
      "Rand Forest Best Score:  0.961951338608\n",
      "Rand Forest Best Estimator:  RandomForestClassifier(bootstrap=True, class_weight=None, criterion='entropy',\n",
      "            max_depth=None, max_features=3, max_leaf_nodes=None,\n",
      "            min_impurity_split=1e-07, min_samples_leaf=1,\n",
      "            min_samples_split=2, min_weight_fraction_leaf=0.0,\n",
      "            n_estimators=20, n_jobs=1, oob_score=False, random_state=0,\n",
      "            verbose=0, warm_start=False)\n",
      "Rand Forest Score on Dev Set:  0.962615491428\n"
     ]
    }
   ],
   "source": [
    "rf_best_est = rf_classifier.best_estimator_\n",
    "print 'Rand Forest Best Score: ', rf_classifier.best_score_\n",
    "print 'Rand Forest Best Estimator: ', rf_best_est\n",
    "rf_dev_score = rf_classifier.score(df_dev_X, df_dev_Y)\n",
    "print 'Rand Forest Score on Dev Set: ', rf_dev_score"
   ]
  },
  {
   "cell_type": "markdown",
   "metadata": {},
   "source": [
    "# Evaluate classifiers on test set. First, we need to retrain classifiers on full dataset using optimal parameters that we found above using cross validation"
   ]
  },
  {
   "cell_type": "markdown",
   "metadata": {},
   "source": [
    "## Logistic Regression"
   ]
  },
  {
   "cell_type": "code",
   "execution_count": 25,
   "metadata": {
    "collapsed": false
   },
   "outputs": [
    {
     "name": "stdout",
     "output_type": "stream",
     "text": [
      "Execution Time (in seconds):  2.096748\n",
      "Logistic Regression Test Score:  0.947399329825\n"
     ]
    }
   ],
   "source": [
    "lr_start = time.clock()\n",
    "\n",
    "lr_classifier_full = linear_model.LogisticRegression(penalty=loss_function, C=lr_best_est.C)\n",
    "lr_classifier_full.fit(df_train_full_X, df_train_full_Y) \n",
    "lr_pred_test = lr_classifier_full.predict(df_test_X)\n",
    "\n",
    "lr_stop = time.clock()\n",
    "lr_time_test = lr_stop - lr_start\n",
    "print 'Execution Time (in seconds): ', lr_time_test\n",
    "\n",
    "lr_score_test = lr_classifier_full.score(df_test_X, df_test_Y)\n",
    "print 'Logistic Regression Test Score: ', lr_score_test"
   ]
  },
  {
   "cell_type": "code",
   "execution_count": 26,
   "metadata": {
    "collapsed": false
   },
   "outputs": [
    {
     "name": "stdout",
     "output_type": "stream",
     "text": [
      "Sensitivity:  0.987661817881\n",
      "Specificity:  0.744595064303\n",
      "F1 score:  0.945081171715\n"
     ]
    }
   ],
   "source": [
    "lr_sens, lr_spec = sensitivity_specificity(df_test_Y, lr_pred_test)\n",
    "print 'Sensitivity: ', lr_sens\n",
    "print 'Specificity: ', lr_spec\n",
    "lr_f1 = f1_score(df_test_Y, lr_pred_test, average='weighted')  \n",
    "print 'F1 score: ', lr_f1"
   ]
  },
  {
   "cell_type": "markdown",
   "metadata": {},
   "source": [
    "## SVC"
   ]
  },
  {
   "cell_type": "code",
   "execution_count": 28,
   "metadata": {
    "collapsed": false
   },
   "outputs": [
    {
     "name": "stdout",
     "output_type": "stream",
     "text": [
      "Sensitivity:  0.629537111154\n",
      "Specificity:  0.473826903024\n",
      "F1 score:  0.652834739782\n"
     ]
    }
   ],
   "source": [
    "svc_sens, svc_spec = sensitivity_specificity(df_test_Y, svc_pred_test)\n",
    "print 'Sensitivity: ', svc_sens\n",
    "print 'Specificity: ', svc_spec\n",
    "svc_f1 = f1_score(df_test_Y, svc_pred_test, average='weighted')  \n",
    "print 'F1 score: ', svc_f1"
   ]
  },
  {
   "cell_type": "markdown",
   "metadata": {},
   "source": [
    "## Random Forest"
   ]
  },
  {
   "cell_type": "code",
   "execution_count": 30,
   "metadata": {
    "collapsed": false
   },
   "outputs": [
    {
     "name": "stdout",
     "output_type": "stream",
     "text": [
      "Execution Time (in seconds):  5.435627\n",
      "Random Forest Test Score:  0.929009822323\n"
     ]
    }
   ],
   "source": [
    "rf_start = time.clock()\n",
    "\n",
    "rf_model_full = RandomForestClassifier(n_estimators=rf_best_est.n_estimators, criterion=rf_best_est.criterion)\n",
    "rf_model_full.fit(df_train_full_X, df_train_full_Y)\n",
    "rf_pred_test = rf_model_full.predict(df_test_X)\n",
    "\n",
    "rf_stop = time.clock()\n",
    "rf_time_test = rf_stop - rf_start\n",
    "print 'Execution Time (in seconds): ', rf_time_test\n",
    "\n",
    "rf_score_test = rf_model_full.score(df_test_X, df_test_Y)\n",
    "print 'Random Forest Test Score: ', rf_score_test"
   ]
  },
  {
   "cell_type": "code",
   "execution_count": 31,
   "metadata": {
    "collapsed": false
   },
   "outputs": [
    {
     "name": "stdout",
     "output_type": "stream",
     "text": [
      "Sensitivity:  0.943553506859\n",
      "Specificity:  0.855752519986\n",
      "F1 score:  0.930832611692\n"
     ]
    }
   ],
   "source": [
    "rf_sens, rf_spec = sensitivity_specificity(df_test_Y, rf_pred_test)\n",
    "print 'Sensitivity: ', rf_sens\n",
    "print 'Specificity: ', rf_spec\n",
    "rf_f1 = f1_score(df_test_Y, rf_pred_test, average='weighted')  \n",
    "print 'F1 score: ', rf_f1"
   ]
  },
  {
   "cell_type": "markdown",
   "metadata": {},
   "source": [
    "# Plot the Results"
   ]
  },
  {
   "cell_type": "code",
   "execution_count": 32,
   "metadata": {
    "collapsed": false
   },
   "outputs": [],
   "source": [
    "methods = ['VQSR (99%)', 'VQSR (99.9%)', 'Logisitc Reg', 'SVM', 'Rand Forest']\n",
    "colors = ['c', 'b', 'r', 'purple', 'g']\n",
    "vqsr_tranche_idx_99 = vqsr_tranches_uniq.index(PASS_ALL)\n",
    "vqsr_tranche_idx_99_9 = vqsr_tranches_uniq.index(TRANCHE_99)\n",
    "\n",
    "font = {'family' : 'normal',\n",
    "        'weight' : 'normal',\n",
    "        'size'   : 14}\n",
    "\n",
    "plt.rc('font', **font)"
   ]
  },
  {
   "cell_type": "markdown",
   "metadata": {},
   "source": [
    "## Plot Sensitivity"
   ]
  },
  {
   "cell_type": "code",
   "execution_count": 33,
   "metadata": {
    "collapsed": false
   },
   "outputs": [
    {
     "data": {
      "text/plain": [
       "<matplotlib.figure.Figure at 0x11a92b410>"
      ]
     },
     "metadata": {},
     "output_type": "display_data"
    },
    {
     "name": "stderr",
     "output_type": "stream",
     "text": [
      "/Users/nicochaves/anaconda/lib/python2.7/site-packages/matplotlib/font_manager.py:1288: UserWarning: findfont: Font family [u'normal'] not found. Falling back to Bitstream Vera Sans\n",
      "  (prop.get_family(), self.defaultFamily[fontext]))\n"
     ]
    },
    {
     "data": {
      "image/png": "[encoded data removed]",
      "text/plain": [
       "<matplotlib.figure.Figure at 0x115917b90>"
      ]
     },
     "metadata": {},
     "output_type": "display_data"
    }
   ],
   "source": [
    "plt.figure()\n",
    "\n",
    "sensitivities = [vqsr_sens[vqsr_tranche_idx_99], vqsr_sens[vqsr_tranche_idx_99_9], lr_sens, svc_sens, rf_sens]\n",
    "ind = np.arange(len(methods))  # the x locations for the groups\n",
    "width = 0.35       # the width of the bars\n",
    "\n",
    "fig, ax = plt.subplots()\n",
    "rects = ax.bar(ind, sensitivities, width)\n",
    "for i,c in enumerate(colors):\n",
    "    rects[i].set_color(c)\n",
    "\n",
    "ax.set_xticks(ind + width/2)\n",
    "ax.set_xticklabels((methods), rotation=-30)\n",
    "\n",
    "plt.ylim([0.9, 1.0])\n",
    "plt.ylabel('Sensitivity', fontsize=24)\n",
    "plt.show()\n"
   ]
  },
  {
   "cell_type": "markdown",
   "metadata": {},
   "source": [
    "## Plot Specificity"
   ]
  },
  {
   "cell_type": "code",
   "execution_count": 34,
   "metadata": {
    "collapsed": false
   },
   "outputs": [
    {
     "data": {
      "text/plain": [
       "<matplotlib.figure.Figure at 0x11d64be90>"
      ]
     },
     "metadata": {},
     "output_type": "display_data"
    },
    {
     "data": {
      "image/png": "[encoded data removed]",
      "text/plain": [
       "<matplotlib.figure.Figure at 0x11591fdd0>"
      ]
     },
     "metadata": {},
     "output_type": "display_data"
    }
   ],
   "source": [
    "plt.figure()\n",
    "\n",
    "specificities = [vqsr_spec[vqsr_tranche_idx_99], vqsr_spec[vqsr_tranche_idx_99_9], lr_spec, svc_spec, rf_spec]\n",
    "ind = np.arange(len(methods))  # the x locations for the groups\n",
    "width = 0.35       # the width of the bars\n",
    "\n",
    "fig, ax = plt.subplots()\n",
    "rects = ax.bar(ind, specificities, width)\n",
    "for i,c in enumerate(colors):\n",
    "    rects[i].set_color(c)\n",
    "\n",
    "ax.set_xticks(ind + width/2)\n",
    "ax.set_xticklabels((methods), rotation=-30)\n",
    "\n",
    "plt.ylim([0.6, 1.05])\n",
    "plt.ylabel('Specificity', fontsize=24)\n",
    "plt.show()"
   ]
  },
  {
   "cell_type": "markdown",
   "metadata": {
    "collapsed": true
   },
   "source": [
    "## Total Execution Times"
   ]
  },
  {
   "cell_type": "code",
   "execution_count": 73,
   "metadata": {
    "collapsed": false
   },
   "outputs": [
    {
     "name": "stdout",
     "output_type": "stream",
     "text": [
      "Total Execution Times:\n",
      "Logistic Reg:  38.116168\n",
      "SVM:  1446.33854\n",
      "Random Forest:  134.211096\n"
     ]
    }
   ],
   "source": [
    "lr_total_time = lr_time_train + lr_time_test\n",
    "svc_total_time = svc_time_train + svc_time_test\n",
    "rf_total_time = rf_time_train + rf_time_test\n",
    "print 'Total Execution Times:'\n",
    "print 'Logistic Reg: ', lr_total_time\n",
    "print 'SVM: ', svc_total_time\n",
    "print 'Random Forest: ', rf_total_time"
   ]
  },
  {
   "cell_type": "code",
   "execution_count": null,
   "metadata": {
    "collapsed": true
   },
   "outputs": [],
   "source": []
  }
 ],
 "metadata": {
  "kernelspec": {
   "display_name": "Python 2",
   "language": "python",
   "name": "python2"
  },
  "language_info": {
   "codemirror_mode": {
    "name": "ipython",
    "version": 2
   },
   "file_extension": ".py",
   "mimetype": "text/x-python",
   "name": "python",
   "nbconvert_exporter": "python",
   "pygments_lexer": "ipython2",
   "version": "2.7.12"
  }
 },
 "nbformat": 4,
 "nbformat_minor": 0
}
