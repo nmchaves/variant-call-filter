{
 "cells": [
  {
   "cell_type": "markdown",
   "metadata": {},
   "source": [
    "# Logistic Regression Filter\n",
    "\n",
    "### This serves as a strong baseline, achieving a 92% ROC AUC score"
   ]
  },
  {
   "cell_type": "code",
   "execution_count": 45,
   "metadata": {
    "collapsed": true
   },
   "outputs": [],
   "source": [
    "import pandas as pd\n",
    "from sklearn import linear_model\n",
    "from sklearn.model_selection import train_test_split\n",
    "from sklearn.metrics import roc_auc_score, roc_curve, auc"
   ]
  },
  {
   "cell_type": "code",
   "execution_count": 36,
   "metadata": {
    "collapsed": false
   },
   "outputs": [],
   "source": [
    "def read_vcf_data(filename, drop_chrom_pos=True, drop_alt=True, drop_ref=True,\n",
    "                  drop_nonnumeric_data=True, drop_VQSR_data=True):\n",
    "    data = pd.read_csv(filename, sep='\\t')\n",
    "    data = data.drop(['#CHROM'], axis=1)\n",
    "    data = data.drop(['ID'], axis=1)\n",
    "    data = data.drop(['FORMAT'], axis=1)\n",
    "    data = data.drop(['sample1'], axis=1)\n",
    "    if drop_chrom_pos:\n",
    "        data = data.drop(['POS'], axis=1)\n",
    "    if drop_ref:\n",
    "        data = data.drop(['REF'], axis=1)\n",
    "    if drop_alt:\n",
    "        data = data.drop(['ALT'], axis=1)\n",
    "    if drop_nonnumeric_data:\n",
    "        data = data.drop([], axis=1)\n",
    "    if drop_VQSR_data:\n",
    "        data = data.drop(['PASSED_VQSR', 'VQSLOD'], axis=1)\n",
    "    return data    "
   ]
  },
  {
   "cell_type": "code",
   "execution_count": 37,
   "metadata": {
    "collapsed": false
   },
   "outputs": [],
   "source": [
    "df_train_full = read_vcf_data('data/preprocessed/vcf_features_test.txt')"
   ]
  },
  {
   "cell_type": "markdown",
   "metadata": {},
   "source": [
    "## Split into train and dev"
   ]
  },
  {
   "cell_type": "code",
   "execution_count": 40,
   "metadata": {
    "collapsed": false
   },
   "outputs": [],
   "source": [
    "num_train = df_train_full.shape[0]\n",
    "idx_train_dev = train_test_split(range(num_train), range(num_train), test_size = 0.3)\n",
    "idx_train = idx_train_dev[0]\n",
    "idx_dev = idx_train_dev[1]\n",
    "\n",
    "df_train = df_train_full.loc[idx_train,:]\n",
    "df_dev = df_train_full.loc[idx_dev,:]\n",
    "\n",
    "df_train_Y = df_train_full['GROUND_TRUTH']\n",
    "df_train_X = df_train_full.drop(['GROUND_TRUTH'], axis=1)\n",
    "\n",
    "df_dev_Y = df_dev['GROUND_TRUTH']\n",
    "df_dev_X = df_dev.drop(['GROUND_TRUTH'], axis=1)"
   ]
  },
  {
   "cell_type": "markdown",
   "metadata": {},
   "source": [
    "## Fit Logistic Regression Model"
   ]
  },
  {
   "cell_type": "code",
   "execution_count": 41,
   "metadata": {
    "collapsed": false
   },
   "outputs": [
    {
     "data": {
      "text/plain": [
       "LogisticRegressionCV(Cs=10, class_weight=None, cv=3, dual=False,\n",
       "           fit_intercept=True, intercept_scaling=1.0, max_iter=100,\n",
       "           multi_class='ovr', n_jobs=1, penalty='l2', random_state=None,\n",
       "           refit=True, scoring=None, solver='lbfgs', tol=0.0001, verbose=0)"
      ]
     },
     "execution_count": 41,
     "metadata": {},
     "output_type": "execute_result"
    }
   ],
   "source": [
    "num_folds = 3   # number of folds to use for cross-validation\n",
    "loss_function = 'l2'  # Loss function to use. Must be either 'l1' or 'l2'\n",
    "logreg_cv_L2 = linear_model.LogisticRegressionCV(cv=num_folds, penalty=loss_function)\n",
    "logreg_cv_L2.fit(df_train_X, df_train_Y)"
   ]
  },
  {
   "cell_type": "markdown",
   "metadata": {},
   "source": [
    "## Make and evaluate predictions"
   ]
  },
  {
   "cell_type": "code",
   "execution_count": 52,
   "metadata": {
    "collapsed": false
   },
   "outputs": [],
   "source": [
    "predictions = logreg_cv_L2.predict(df_dev_X)\n",
    "#conf_lr_cv = logreg_cv.decision_function(x_te)\n",
    "prob_scores = logreg_cv_L2.predict_proba(df_dev_X)\n",
    "prob_of_pos = prob_scores[:, 1]\n",
    "\n",
    "score = roc_auc_score(df_dev_Y, prob_of_pos)"
   ]
  },
  {
   "cell_type": "code",
   "execution_count": 53,
   "metadata": {
    "collapsed": false
   },
   "outputs": [
    {
     "data": {
      "text/plain": [
       "0.92312185206098241"
      ]
     },
     "execution_count": 53,
     "metadata": {},
     "output_type": "execute_result"
    }
   ],
   "source": [
    "score"
   ]
  },
  {
   "cell_type": "code",
   "execution_count": null,
   "metadata": {
    "collapsed": true
   },
   "outputs": [],
   "source": []
  }
 ],
 "metadata": {
  "kernelspec": {
   "display_name": "Python 2",
   "language": "python",
   "name": "python2"
  },
  "language_info": {
   "codemirror_mode": {
    "name": "ipython",
    "version": 2
   },
   "file_extension": ".py",
   "mimetype": "text/x-python",
   "name": "python",
   "nbconvert_exporter": "python",
   "pygments_lexer": "ipython2",
   "version": "2.7.12"
  }
 },
 "nbformat": 4,
 "nbformat_minor": 0
}
