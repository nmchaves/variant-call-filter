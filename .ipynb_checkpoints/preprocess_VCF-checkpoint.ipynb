{
 "cells": [
  {
   "cell_type": "code",
   "execution_count": 5,
   "metadata": {
    "collapsed": false
   },
   "outputs": [],
   "source": [
    "%matplotlib inline \n",
    "from sets import Set\n",
    "import numpy as np\n",
    "from sklearn.manifold import TSNE\n",
    "import pandas as pd\n",
    "import matplotlib.pyplot as plt"
   ]
  },
  {
   "cell_type": "code",
   "execution_count": 6,
   "metadata": {
    "collapsed": true
   },
   "outputs": [],
   "source": [
    "def parse_attributes(attributes):\n",
    "    for attr in attributes:\n",
    "        if \"=\" in attr:\n",
    "            [key, val] = attr.split('=')\n",
    "            yield (key, val)\n",
    "\n",
    "def get_feature_names(df):\n",
    "    row_info = df['INFO'][0].split(';')\n",
    "    feature_names = Set([])\n",
    "    for (key, val) in parse_attributes(row_info):\n",
    "        feature_names.add(key)\n",
    "    return list(feature_names)"
   ]
  },
  {
   "cell_type": "code",
   "execution_count": 7,
   "metadata": {
    "collapsed": true
   },
   "outputs": [],
   "source": [
    "def features_from_VCF(filename):\n",
    "    \"\"\"\n",
    "    Generate a Pandas dataframe from a VCF file\n",
    "    :param filename: Path to the VCF file\n",
    "    :return: Pandas dataframe containing features for each record in VCF\n",
    "    \"\"\"\n",
    "\n",
    "    # Ignore non-numeric columns (consider accounting for these later on)\n",
    "    ignore_cols = {'DB', 'POSITIVE_TRAIN_SITE', 'culprit'}\n",
    "\n",
    "    \n",
    "    df = pd.read_csv(filename, sep='\\t')\n",
    "    num_rows = df.shape[0]\n",
    "    feature_names = get_feature_names(df)\n",
    "    feature_names.append('PASSED_VQSR')\n",
    "    features = pd.DataFrame(np.zeros(shape=(num_rows, len(feature_names))), columns=feature_names)\n",
    "    #row_info = df['INFO'][0]\n",
    "    for index, row in df.iterrows():\n",
    "        attrs = row['INFO'].split(';')\n",
    "        for (key, val) in parse_attributes(attrs):\n",
    "            if key in feature_names and key not in ignore_cols:\n",
    "                # TODO: This is NOT the correct/robust way to handle this case. This is the case where the\n",
    "                # location has multiple calls (e.g. heterozygosity for example). For now, just take the first\n",
    "                # attribute for simplicity\n",
    "                if ',' in val:\n",
    "                    val = val.split(',')[0]\n",
    "                features.set_value(index, key, val)\n",
    "        \n",
    "        passed_VQSR = row['FILTER']\n",
    "        if passed_VQSR == 'PASS':\n",
    "            features.set_value(index, 'PASSED_VQSR', 1)\n",
    "        else:\n",
    "            features.set_value(index, 'PASSED_VQSR', 0)\n",
    "            \n",
    "\n",
    "    return features"
   ]
  },
  {
   "cell_type": "markdown",
   "metadata": {},
   "source": [
    "## Preproces VCF features and Save Output"
   ]
  },
  {
   "cell_type": "code",
   "execution_count": 8,
   "metadata": {
    "collapsed": false
   },
   "outputs": [],
   "source": [
    "features = features_from_VCF('data/VQSRfilter/NA12878.LowSeq.illumina.bwa.sorted.dedup.20.sam.wFlag.qual.raw.snps.vqsr.recal copy.vcf')\n",
    "features.to_csv('data/preprocessed/vcf_features_with_VQSR_labels.txt', sep='\\t')"
   ]
  },
  {
   "cell_type": "markdown",
   "metadata": {},
   "source": [
    "## If Preprocessing has Already Been Performed, then read in the Data"
   ]
  },
  {
   "cell_type": "code",
   "execution_count": null,
   "metadata": {
    "collapsed": true
   },
   "outputs": [],
   "source": [
    "features = pd.read_csv('data/preprocessed/vcf_features_with_VQSR_labels.txt', sep='\\t')"
   ]
  },
  {
   "cell_type": "markdown",
   "metadata": {},
   "source": [
    "## Data Visualization Using T-SNE"
   ]
  },
  {
   "cell_type": "code",
   "execution_count": null,
   "metadata": {
    "collapsed": true
   },
   "outputs": [],
   "source": [
    "def plot_embedding(embedding):\n",
    "    \"\"\"\n",
    "    Plot a 2-dimensional embedding of a dataset\n",
    "    :param embedding: The embedding\n",
    "    :return: None\n",
    "    \"\"\"\n",
    "\n",
    "    fig, ax = plt.subplots(figsize = (10,10))\n",
    "    #for i,group in df.groupby(colorby):\n",
    "    #    group.plot(x='DIM1',y='DIM2',kind='scatter',label=i,color=colors[color],title=plot_title,ax=ax)\n",
    "    #    color = color + 1\n",
    "    plt.plot(embedding[:,0], embedding[:,1], 'bo')\n",
    "    plt.legend(loc='center left', bbox_to_anchor=(1.0, 0.5))\n",
    "    plt.show()"
   ]
  },
  {
   "cell_type": "markdown",
   "metadata": {},
   "source": [
    "### T-SNE Embedding without Any Labeling"
   ]
  },
  {
   "cell_type": "code",
   "execution_count": null,
   "metadata": {
    "collapsed": false
   },
   "outputs": [],
   "source": [
    "num_features_to_embed = features.shape[0]\n",
    "model = TSNE(n_components=2, random_state=0)\n",
    "embedding = model.fit_transform(features[:num_features_to_embed])\n",
    "plot_embedding(embedding)"
   ]
  },
  {
   "cell_type": "markdown",
   "metadata": {},
   "source": [
    "#### It's not immediately clear if there is much structure in the VCF file annotation space"
   ]
  },
  {
   "cell_type": "markdown",
   "metadata": {},
   "source": [
    "### T-SNE Embedding using VQSR Filter Output for Labels"
   ]
  },
  {
   "cell_type": "code",
   "execution_count": null,
   "metadata": {
    "collapsed": false
   },
   "outputs": [],
   "source": [
    "vqsr_pos_indices = features[features['PASSED_VQSR'] == 1].index\n",
    "vqsr_pos_indices = [i for i in vqsr_pos_indices if i < num_features_to_embed]\n",
    "vqsr_neg_indices = features[features['PASSED_VQSR'] == 0].index;\n",
    "vqsr_neg_indices = [i for i in vqsr_neg_indices if i < num_features_to_embed]\n",
    "\n",
    "vqsr_pos_embedding = embedding[vqsr_pos_indices];\n",
    "vqsr_neg_embedding = embedding[vqsr_neg_indices];"
   ]
  },
  {
   "cell_type": "code",
   "execution_count": null,
   "metadata": {
    "collapsed": false
   },
   "outputs": [],
   "source": [
    "fig, ax = plt.subplots(figsize = (10,10))\n",
    "\n",
    "plt.plot(vqsr_pos_embedding[:,0], vqsr_pos_embedding[:,1], 'bo')\n",
    "plt.plot(vqsr_neg_embedding[:,0], vqsr_neg_embedding[:,1], 'ro')\n",
    "plt.legend(loc='center left', bbox_to_anchor=(1.0, 0.5))\n",
    "plt.show()"
   ]
  },
  {
   "cell_type": "markdown",
   "metadata": {},
   "source": [
    "#### Clearly, VQSR is finding some structure in the VCF file's annotations. "
   ]
  },
  {
   "cell_type": "code",
   "execution_count": null,
   "metadata": {
    "collapsed": true
   },
   "outputs": [],
   "source": []
  },
  {
   "cell_type": "code",
   "execution_count": null,
   "metadata": {
    "collapsed": true
   },
   "outputs": [],
   "source": []
  }
 ],
 "metadata": {
  "kernelspec": {
   "display_name": "Python 2",
   "language": "python",
   "name": "python2"
  },
  "language_info": {
   "codemirror_mode": {
    "name": "ipython",
    "version": 2
   },
   "file_extension": ".py",
   "mimetype": "text/x-python",
   "name": "python",
   "nbconvert_exporter": "python",
   "pygments_lexer": "ipython2",
   "version": "2.7.12"
  }
 },
 "nbformat": 4,
 "nbformat_minor": 0
}
